{
  "cells": [
    {
      "cell_type": "code",
      "execution_count": null,
      "metadata": {
        "colab": {
          "background_save": true
        },
        "id": "ytAQwd0gjLny"
      },
      "outputs": [],
      "source": [
        "import torch\n",
        "import torchvision\n",
        "from torchvision import transforms as T\n",
        "\n",
        "from PIL import Image, ImageDraw\n",
        "import cv2\n",
        "import numpy as np"
      ]
    },
    {
      "cell_type": "code",
      "execution_count": null,
      "metadata": {
        "colab": {
          "background_save": true
        },
        "id": "NtDQ2fewjhRa",
        "outputId": "abc788de-f0b3-49dd-95dc-8e17994d1489"
      },
      "outputs": [
        {
          "name": "stderr",
          "output_type": "stream",
          "text": [
            "/usr/local/lib/python3.10/dist-packages/torchvision/models/_utils.py:208: UserWarning: The parameter 'pretrained' is deprecated since 0.13 and may be removed in the future, please use 'weights' instead.\n",
            "  warnings.warn(\n",
            "/usr/local/lib/python3.10/dist-packages/torchvision/models/_utils.py:223: UserWarning: Arguments other than a weight enum or `None` for 'weights' are deprecated since 0.13 and may be removed in the future. The current behavior is equivalent to passing `weights=FasterRCNN_ResNet50_FPN_Weights.COCO_V1`. You can also use `weights=FasterRCNN_ResNet50_FPN_Weights.DEFAULT` to get the most up-to-date weights.\n",
            "  warnings.warn(msg)\n"
          ]
        }
      ],
      "source": [
        "model = torchvision.models.detection.fasterrcnn_resnet50_fpn(pretrained=True)"
      ]
    },
    {
      "cell_type": "code",
      "execution_count": null,
      "metadata": {
        "colab": {
          "background_save": true,
          "base_uri": "https://localhost:8080/"
        },
        "id": "gcZuCr7hj44s",
        "outputId": "6cb32500-5ea3-4ec4-e980-d7f53479d534"
      },
      "outputs": [
        {
          "data": {
            "text/plain": [
              "FasterRCNN(\n",
              "  (transform): GeneralizedRCNNTransform(\n",
              "      Normalize(mean=[0.485, 0.456, 0.406], std=[0.229, 0.224, 0.225])\n",
              "      Resize(min_size=(800,), max_size=1333, mode='bilinear')\n",
              "  )\n",
              "  (backbone): BackboneWithFPN(\n",
              "    (body): IntermediateLayerGetter(\n",
              "      (conv1): Conv2d(3, 64, kernel_size=(7, 7), stride=(2, 2), padding=(3, 3), bias=False)\n",
              "      (bn1): FrozenBatchNorm2d(64, eps=0.0)\n",
              "      (relu): ReLU(inplace=True)\n",
              "      (maxpool): MaxPool2d(kernel_size=3, stride=2, padding=1, dilation=1, ceil_mode=False)\n",
              "      (layer1): Sequential(\n",
              "        (0): Bottleneck(\n",
              "          (conv1): Conv2d(64, 64, kernel_size=(1, 1), stride=(1, 1), bias=False)\n",
              "          (bn1): FrozenBatchNorm2d(64, eps=0.0)\n",
              "          (conv2): Conv2d(64, 64, kernel_size=(3, 3), stride=(1, 1), padding=(1, 1), bias=False)\n",
              "          (bn2): FrozenBatchNorm2d(64, eps=0.0)\n",
              "          (conv3): Conv2d(64, 256, kernel_size=(1, 1), stride=(1, 1), bias=False)\n",
              "          (bn3): FrozenBatchNorm2d(256, eps=0.0)\n",
              "          (relu): ReLU(inplace=True)\n",
              "          (downsample): Sequential(\n",
              "            (0): Conv2d(64, 256, kernel_size=(1, 1), stride=(1, 1), bias=False)\n",
              "            (1): FrozenBatchNorm2d(256, eps=0.0)\n",
              "          )\n",
              "        )\n",
              "        (1): Bottleneck(\n",
              "          (conv1): Conv2d(256, 64, kernel_size=(1, 1), stride=(1, 1), bias=False)\n",
              "          (bn1): FrozenBatchNorm2d(64, eps=0.0)\n",
              "          (conv2): Conv2d(64, 64, kernel_size=(3, 3), stride=(1, 1), padding=(1, 1), bias=False)\n",
              "          (bn2): FrozenBatchNorm2d(64, eps=0.0)\n",
              "          (conv3): Conv2d(64, 256, kernel_size=(1, 1), stride=(1, 1), bias=False)\n",
              "          (bn3): FrozenBatchNorm2d(256, eps=0.0)\n",
              "          (relu): ReLU(inplace=True)\n",
              "        )\n",
              "        (2): Bottleneck(\n",
              "          (conv1): Conv2d(256, 64, kernel_size=(1, 1), stride=(1, 1), bias=False)\n",
              "          (bn1): FrozenBatchNorm2d(64, eps=0.0)\n",
              "          (conv2): Conv2d(64, 64, kernel_size=(3, 3), stride=(1, 1), padding=(1, 1), bias=False)\n",
              "          (bn2): FrozenBatchNorm2d(64, eps=0.0)\n",
              "          (conv3): Conv2d(64, 256, kernel_size=(1, 1), stride=(1, 1), bias=False)\n",
              "          (bn3): FrozenBatchNorm2d(256, eps=0.0)\n",
              "          (relu): ReLU(inplace=True)\n",
              "        )\n",
              "      )\n",
              "      (layer2): Sequential(\n",
              "        (0): Bottleneck(\n",
              "          (conv1): Conv2d(256, 128, kernel_size=(1, 1), stride=(1, 1), bias=False)\n",
              "          (bn1): FrozenBatchNorm2d(128, eps=0.0)\n",
              "          (conv2): Conv2d(128, 128, kernel_size=(3, 3), stride=(2, 2), padding=(1, 1), bias=False)\n",
              "          (bn2): FrozenBatchNorm2d(128, eps=0.0)\n",
              "          (conv3): Conv2d(128, 512, kernel_size=(1, 1), stride=(1, 1), bias=False)\n",
              "          (bn3): FrozenBatchNorm2d(512, eps=0.0)\n",
              "          (relu): ReLU(inplace=True)\n",
              "          (downsample): Sequential(\n",
              "            (0): Conv2d(256, 512, kernel_size=(1, 1), stride=(2, 2), bias=False)\n",
              "            (1): FrozenBatchNorm2d(512, eps=0.0)\n",
              "          )\n",
              "        )\n",
              "        (1): Bottleneck(\n",
              "          (conv1): Conv2d(512, 128, kernel_size=(1, 1), stride=(1, 1), bias=False)\n",
              "          (bn1): FrozenBatchNorm2d(128, eps=0.0)\n",
              "          (conv2): Conv2d(128, 128, kernel_size=(3, 3), stride=(1, 1), padding=(1, 1), bias=False)\n",
              "          (bn2): FrozenBatchNorm2d(128, eps=0.0)\n",
              "          (conv3): Conv2d(128, 512, kernel_size=(1, 1), stride=(1, 1), bias=False)\n",
              "          (bn3): FrozenBatchNorm2d(512, eps=0.0)\n",
              "          (relu): ReLU(inplace=True)\n",
              "        )\n",
              "        (2): Bottleneck(\n",
              "          (conv1): Conv2d(512, 128, kernel_size=(1, 1), stride=(1, 1), bias=False)\n",
              "          (bn1): FrozenBatchNorm2d(128, eps=0.0)\n",
              "          (conv2): Conv2d(128, 128, kernel_size=(3, 3), stride=(1, 1), padding=(1, 1), bias=False)\n",
              "          (bn2): FrozenBatchNorm2d(128, eps=0.0)\n",
              "          (conv3): Conv2d(128, 512, kernel_size=(1, 1), stride=(1, 1), bias=False)\n",
              "          (bn3): FrozenBatchNorm2d(512, eps=0.0)\n",
              "          (relu): ReLU(inplace=True)\n",
              "        )\n",
              "        (3): Bottleneck(\n",
              "          (conv1): Conv2d(512, 128, kernel_size=(1, 1), stride=(1, 1), bias=False)\n",
              "          (bn1): FrozenBatchNorm2d(128, eps=0.0)\n",
              "          (conv2): Conv2d(128, 128, kernel_size=(3, 3), stride=(1, 1), padding=(1, 1), bias=False)\n",
              "          (bn2): FrozenBatchNorm2d(128, eps=0.0)\n",
              "          (conv3): Conv2d(128, 512, kernel_size=(1, 1), stride=(1, 1), bias=False)\n",
              "          (bn3): FrozenBatchNorm2d(512, eps=0.0)\n",
              "          (relu): ReLU(inplace=True)\n",
              "        )\n",
              "      )\n",
              "      (layer3): Sequential(\n",
              "        (0): Bottleneck(\n",
              "          (conv1): Conv2d(512, 256, kernel_size=(1, 1), stride=(1, 1), bias=False)\n",
              "          (bn1): FrozenBatchNorm2d(256, eps=0.0)\n",
              "          (conv2): Conv2d(256, 256, kernel_size=(3, 3), stride=(2, 2), padding=(1, 1), bias=False)\n",
              "          (bn2): FrozenBatchNorm2d(256, eps=0.0)\n",
              "          (conv3): Conv2d(256, 1024, kernel_size=(1, 1), stride=(1, 1), bias=False)\n",
              "          (bn3): FrozenBatchNorm2d(1024, eps=0.0)\n",
              "          (relu): ReLU(inplace=True)\n",
              "          (downsample): Sequential(\n",
              "            (0): Conv2d(512, 1024, kernel_size=(1, 1), stride=(2, 2), bias=False)\n",
              "            (1): FrozenBatchNorm2d(1024, eps=0.0)\n",
              "          )\n",
              "        )\n",
              "        (1): Bottleneck(\n",
              "          (conv1): Conv2d(1024, 256, kernel_size=(1, 1), stride=(1, 1), bias=False)\n",
              "          (bn1): FrozenBatchNorm2d(256, eps=0.0)\n",
              "          (conv2): Conv2d(256, 256, kernel_size=(3, 3), stride=(1, 1), padding=(1, 1), bias=False)\n",
              "          (bn2): FrozenBatchNorm2d(256, eps=0.0)\n",
              "          (conv3): Conv2d(256, 1024, kernel_size=(1, 1), stride=(1, 1), bias=False)\n",
              "          (bn3): FrozenBatchNorm2d(1024, eps=0.0)\n",
              "          (relu): ReLU(inplace=True)\n",
              "        )\n",
              "        (2): Bottleneck(\n",
              "          (conv1): Conv2d(1024, 256, kernel_size=(1, 1), stride=(1, 1), bias=False)\n",
              "          (bn1): FrozenBatchNorm2d(256, eps=0.0)\n",
              "          (conv2): Conv2d(256, 256, kernel_size=(3, 3), stride=(1, 1), padding=(1, 1), bias=False)\n",
              "          (bn2): FrozenBatchNorm2d(256, eps=0.0)\n",
              "          (conv3): Conv2d(256, 1024, kernel_size=(1, 1), stride=(1, 1), bias=False)\n",
              "          (bn3): FrozenBatchNorm2d(1024, eps=0.0)\n",
              "          (relu): ReLU(inplace=True)\n",
              "        )\n",
              "        (3): Bottleneck(\n",
              "          (conv1): Conv2d(1024, 256, kernel_size=(1, 1), stride=(1, 1), bias=False)\n",
              "          (bn1): FrozenBatchNorm2d(256, eps=0.0)\n",
              "          (conv2): Conv2d(256, 256, kernel_size=(3, 3), stride=(1, 1), padding=(1, 1), bias=False)\n",
              "          (bn2): FrozenBatchNorm2d(256, eps=0.0)\n",
              "          (conv3): Conv2d(256, 1024, kernel_size=(1, 1), stride=(1, 1), bias=False)\n",
              "          (bn3): FrozenBatchNorm2d(1024, eps=0.0)\n",
              "          (relu): ReLU(inplace=True)\n",
              "        )\n",
              "        (4): Bottleneck(\n",
              "          (conv1): Conv2d(1024, 256, kernel_size=(1, 1), stride=(1, 1), bias=False)\n",
              "          (bn1): FrozenBatchNorm2d(256, eps=0.0)\n",
              "          (conv2): Conv2d(256, 256, kernel_size=(3, 3), stride=(1, 1), padding=(1, 1), bias=False)\n",
              "          (bn2): FrozenBatchNorm2d(256, eps=0.0)\n",
              "          (conv3): Conv2d(256, 1024, kernel_size=(1, 1), stride=(1, 1), bias=False)\n",
              "          (bn3): FrozenBatchNorm2d(1024, eps=0.0)\n",
              "          (relu): ReLU(inplace=True)\n",
              "        )\n",
              "        (5): Bottleneck(\n",
              "          (conv1): Conv2d(1024, 256, kernel_size=(1, 1), stride=(1, 1), bias=False)\n",
              "          (bn1): FrozenBatchNorm2d(256, eps=0.0)\n",
              "          (conv2): Conv2d(256, 256, kernel_size=(3, 3), stride=(1, 1), padding=(1, 1), bias=False)\n",
              "          (bn2): FrozenBatchNorm2d(256, eps=0.0)\n",
              "          (conv3): Conv2d(256, 1024, kernel_size=(1, 1), stride=(1, 1), bias=False)\n",
              "          (bn3): FrozenBatchNorm2d(1024, eps=0.0)\n",
              "          (relu): ReLU(inplace=True)\n",
              "        )\n",
              "      )\n",
              "      (layer4): Sequential(\n",
              "        (0): Bottleneck(\n",
              "          (conv1): Conv2d(1024, 512, kernel_size=(1, 1), stride=(1, 1), bias=False)\n",
              "          (bn1): FrozenBatchNorm2d(512, eps=0.0)\n",
              "          (conv2): Conv2d(512, 512, kernel_size=(3, 3), stride=(2, 2), padding=(1, 1), bias=False)\n",
              "          (bn2): FrozenBatchNorm2d(512, eps=0.0)\n",
              "          (conv3): Conv2d(512, 2048, kernel_size=(1, 1), stride=(1, 1), bias=False)\n",
              "          (bn3): FrozenBatchNorm2d(2048, eps=0.0)\n",
              "          (relu): ReLU(inplace=True)\n",
              "          (downsample): Sequential(\n",
              "            (0): Conv2d(1024, 2048, kernel_size=(1, 1), stride=(2, 2), bias=False)\n",
              "            (1): FrozenBatchNorm2d(2048, eps=0.0)\n",
              "          )\n",
              "        )\n",
              "        (1): Bottleneck(\n",
              "          (conv1): Conv2d(2048, 512, kernel_size=(1, 1), stride=(1, 1), bias=False)\n",
              "          (bn1): FrozenBatchNorm2d(512, eps=0.0)\n",
              "          (conv2): Conv2d(512, 512, kernel_size=(3, 3), stride=(1, 1), padding=(1, 1), bias=False)\n",
              "          (bn2): FrozenBatchNorm2d(512, eps=0.0)\n",
              "          (conv3): Conv2d(512, 2048, kernel_size=(1, 1), stride=(1, 1), bias=False)\n",
              "          (bn3): FrozenBatchNorm2d(2048, eps=0.0)\n",
              "          (relu): ReLU(inplace=True)\n",
              "        )\n",
              "        (2): Bottleneck(\n",
              "          (conv1): Conv2d(2048, 512, kernel_size=(1, 1), stride=(1, 1), bias=False)\n",
              "          (bn1): FrozenBatchNorm2d(512, eps=0.0)\n",
              "          (conv2): Conv2d(512, 512, kernel_size=(3, 3), stride=(1, 1), padding=(1, 1), bias=False)\n",
              "          (bn2): FrozenBatchNorm2d(512, eps=0.0)\n",
              "          (conv3): Conv2d(512, 2048, kernel_size=(1, 1), stride=(1, 1), bias=False)\n",
              "          (bn3): FrozenBatchNorm2d(2048, eps=0.0)\n",
              "          (relu): ReLU(inplace=True)\n",
              "        )\n",
              "      )\n",
              "    )\n",
              "    (fpn): FeaturePyramidNetwork(\n",
              "      (inner_blocks): ModuleList(\n",
              "        (0): Conv2dNormActivation(\n",
              "          (0): Conv2d(256, 256, kernel_size=(1, 1), stride=(1, 1))\n",
              "        )\n",
              "        (1): Conv2dNormActivation(\n",
              "          (0): Conv2d(512, 256, kernel_size=(1, 1), stride=(1, 1))\n",
              "        )\n",
              "        (2): Conv2dNormActivation(\n",
              "          (0): Conv2d(1024, 256, kernel_size=(1, 1), stride=(1, 1))\n",
              "        )\n",
              "        (3): Conv2dNormActivation(\n",
              "          (0): Conv2d(2048, 256, kernel_size=(1, 1), stride=(1, 1))\n",
              "        )\n",
              "      )\n",
              "      (layer_blocks): ModuleList(\n",
              "        (0-3): 4 x Conv2dNormActivation(\n",
              "          (0): Conv2d(256, 256, kernel_size=(3, 3), stride=(1, 1), padding=(1, 1))\n",
              "        )\n",
              "      )\n",
              "      (extra_blocks): LastLevelMaxPool()\n",
              "    )\n",
              "  )\n",
              "  (rpn): RegionProposalNetwork(\n",
              "    (anchor_generator): AnchorGenerator()\n",
              "    (head): RPNHead(\n",
              "      (conv): Sequential(\n",
              "        (0): Conv2dNormActivation(\n",
              "          (0): Conv2d(256, 256, kernel_size=(3, 3), stride=(1, 1), padding=(1, 1))\n",
              "          (1): ReLU(inplace=True)\n",
              "        )\n",
              "      )\n",
              "      (cls_logits): Conv2d(256, 3, kernel_size=(1, 1), stride=(1, 1))\n",
              "      (bbox_pred): Conv2d(256, 12, kernel_size=(1, 1), stride=(1, 1))\n",
              "    )\n",
              "  )\n",
              "  (roi_heads): RoIHeads(\n",
              "    (box_roi_pool): MultiScaleRoIAlign(featmap_names=['0', '1', '2', '3'], output_size=(7, 7), sampling_ratio=2)\n",
              "    (box_head): TwoMLPHead(\n",
              "      (fc6): Linear(in_features=12544, out_features=1024, bias=True)\n",
              "      (fc7): Linear(in_features=1024, out_features=1024, bias=True)\n",
              "    )\n",
              "    (box_predictor): FastRCNNPredictor(\n",
              "      (cls_score): Linear(in_features=1024, out_features=91, bias=True)\n",
              "      (bbox_pred): Linear(in_features=1024, out_features=364, bias=True)\n",
              "    )\n",
              "  )\n",
              ")"
            ]
          },
          "execution_count": 4,
          "metadata": {},
          "output_type": "execute_result"
        }
      ],
      "source": [
        "model.eval()"
      ]
    },
    {
      "cell_type": "code",
      "execution_count": null,
      "metadata": {
        "colab": {
          "base_uri": "https://localhost:8080/"
        },
        "id": "j1D98i7Cj_4p",
        "outputId": "719154fb-c3e1-4e83-dcf8-6a765ac4dc94"
      },
      "outputs": [
        {
          "name": "stdout",
          "output_type": "stream",
          "text": [
            "--2024-11-08 12:08:22--  http://images.cocodataset.org/val2017/000000037777.jpg\n",
            "Resolving images.cocodataset.org (images.cocodataset.org)... 3.5.30.1, 52.216.54.137, 52.217.226.97, ...\n",
            "Connecting to images.cocodataset.org (images.cocodataset.org)|3.5.30.1|:80... connected.\n",
            "HTTP request sent, awaiting response... 200 OK\n",
            "Length: 40833 (40K) [image/jpeg]\n",
            "Saving to: ‘000000037777.jpg.2’\n",
            "\n",
            "\r000000037777.jpg.2    0%[                    ]       0  --.-KB/s               \r000000037777.jpg.2  100%[===================>]  39.88K  --.-KB/s    in 0.03s   \n",
            "\n",
            "2024-11-08 12:08:22 (1.31 MB/s) - ‘000000037777.jpg.2’ saved [40833/40833]\n",
            "\n"
          ]
        }
      ],
      "source": [
        "!wget \"http://images.cocodataset.org/val2017/000000037777.jpg\""
      ]
    },
    {
      "cell_type": "code",
      "execution_count": null,
      "metadata": {
        "colab": {
          "base_uri": "https://localhost:8080/"
        },
        "id": "jrgP_qc8VaLN",
        "outputId": "79ccbd0d-a181-44e5-b39a-a38a06a50c35"
      },
      "outputs": [
        {
          "name": "stdout",
          "output_type": "stream",
          "text": [
            "Drive already mounted at /content/drive; to attempt to forcibly remount, call drive.mount(\"/content/drive\", force_remount=True).\n"
          ]
        }
      ],
      "source": [
        "from google.colab import drive\n",
        "drive.mount('/content/drive')"
      ]
    },
    {
      "cell_type": "code",
      "execution_count": null,
      "metadata": {
        "id": "hH7GffmLkTf1"
      },
      "outputs": [],
      "source": [
        "ig = Image.open('/content/drive/My Drive/it_clinika/content/000000037777.jpg')"
      ]
    },
    {
      "cell_type": "code",
      "execution_count": null,
      "metadata": {
        "id": "6hjGM7tnkdBQ"
      },
      "outputs": [],
      "source": [
        "transform = T.ToTensor()\n",
        "img = transform(ig)"
      ]
    },
    {
      "cell_type": "code",
      "execution_count": null,
      "metadata": {
        "id": "hx7VmQM8kmzr"
      },
      "outputs": [],
      "source": [
        "with torch.no_grad():\n",
        "  pred = model([img])"
      ]
    },
    {
      "cell_type": "code",
      "execution_count": null,
      "metadata": {
        "colab": {
          "base_uri": "https://localhost:8080/"
        },
        "id": "TNoh7KstkuRc",
        "outputId": "0011ea19-a25a-4b07-89e3-e5dcddc75954"
      },
      "outputs": [
        {
          "data": {
            "text/plain": [
              "[{'boxes': tensor([[291.8007,  75.4907, 351.0379, 229.7333],\n",
              "          [137.4995, 126.4641, 196.7451, 192.7782],\n",
              "          [233.8998, 187.4761, 257.3713, 206.0314],\n",
              "          [ 90.1806, 183.4493, 288.7284, 227.4105],\n",
              "          [215.5326, 186.7111, 232.5018, 201.2200],\n",
              "          [229.1946, 178.4547, 242.4028, 189.1366],\n",
              "          [204.3889, 187.5528, 220.3058, 207.7724],\n",
              "          [231.4346, 200.6802, 247.8696, 217.5509],\n",
              "          [217.1698, 200.3502, 231.5009, 214.5559],\n",
              "          [204.0359, 181.5956, 255.1724, 215.4856],\n",
              "          [ 98.9669, 120.1149, 110.5809, 174.5164],\n",
              "          [102.2467, 119.0014, 109.8358, 135.8731],\n",
              "          [264.9863, 133.9124, 294.1249, 137.5284],\n",
              "          [232.7792, 188.8490, 246.7510, 200.8903],\n",
              "          [256.4788, 132.5554, 295.4839, 138.3106],\n",
              "          [175.0202, 110.8700, 185.6927, 137.3661],\n",
              "          [273.3569, 135.1965, 294.8690, 137.8414],\n",
              "          [263.4073, 128.6209, 298.7946, 137.3732],\n",
              "          [197.2355, 181.2733, 263.8224, 219.3763],\n",
              "          [218.0015, 199.0363, 246.3781, 217.2725],\n",
              "          [233.2911, 127.2777, 299.2677, 138.3053],\n",
              "          [196.7906, 176.0138, 295.1327, 227.2277],\n",
              "          [277.4945, 128.7831, 294.3444, 136.7246],\n",
              "          [195.4701, 120.3333, 202.1639, 134.7107],\n",
              "          [205.7191, 182.7520, 232.8646, 212.0839],\n",
              "          [215.5735, 192.0031, 232.6144, 212.4386],\n",
              "          [126.2595,  98.0017, 196.9859, 190.0268],\n",
              "          [335.9925,  53.8941, 351.7091,  78.3954],\n",
              "          [230.3266, 188.0459, 241.4556, 196.1423],\n",
              "          [ 23.3921, 215.4327,  85.7529, 228.8503],\n",
              "          [231.4097, 188.5247, 242.9691, 197.6583],\n",
              "          [199.5782, 132.2746, 230.9552, 136.7621],\n",
              "          [ 99.3698, 132.9896, 110.3126, 177.3067],\n",
              "          [274.6114, 132.1647, 295.4245, 136.9303],\n",
              "          [243.4663, 188.0158, 255.1226, 205.9618],\n",
              "          [106.2549, 126.8241, 109.5654, 136.0857],\n",
              "          [209.2611, 122.8130, 216.1806, 133.9069],\n",
              "          [232.4752, 190.0423, 254.0875, 211.6656],\n",
              "          [186.6181, 113.1141, 192.0916, 134.3102],\n",
              "          [121.4489, 149.9124, 297.1120, 225.3528],\n",
              "          [ 57.3310, 178.1882, 295.3813, 227.8415],\n",
              "          [205.4935, 181.3018, 256.9351, 214.5954],\n",
              "          [242.4294,  72.0229, 348.6021, 219.6535],\n",
              "          [264.2516, 131.8361, 293.0418, 136.0612],\n",
              "          [276.1863, 135.8619, 300.7418, 139.0029],\n",
              "          [277.2612, 110.8911, 290.0176, 128.4139],\n",
              "          [223.5605, 181.9018, 258.9954, 207.2584],\n",
              "          [209.2122, 185.9772, 238.5243, 203.0282],\n",
              "          [237.8130, 189.1031, 252.1272, 203.9443],\n",
              "          [212.5358, 179.8578, 246.5361, 206.7563],\n",
              "          [228.0379, 180.7806, 243.1379, 195.6810],\n",
              "          [189.4451, 130.4031, 232.2002, 137.4645],\n",
              "          [194.0911, 121.2590, 202.3865, 134.3217],\n",
              "          [223.8388, 187.7670, 233.4278, 198.8905],\n",
              "          [290.3062, 118.2465, 295.2960, 128.2851],\n",
              "          [214.8254, 120.7471, 230.2146, 132.2280],\n",
              "          [115.7271, 190.2451, 166.4006, 211.7705],\n",
              "          [195.3436, 122.6958, 202.3656, 134.7221],\n",
              "          [226.6122, 129.5320, 269.3200, 136.9075],\n",
              "          [ 79.5318, 186.9848, 223.3760, 226.7934],\n",
              "          [221.1238, 185.8760, 241.8407, 199.4312],\n",
              "          [214.8148, 126.3200, 228.9625, 132.1013],\n",
              "          [220.3028, 180.3849, 230.4728, 189.2468],\n",
              "          [277.3170, 110.8236, 290.2443, 128.7589]]),\n",
              "  'labels': tensor([82, 79, 52, 67, 55, 55, 55, 55, 55, 55, 64, 64, 81, 52, 81, 44, 81, 81,\n",
              "          51, 55, 81, 67, 81, 44, 55, 55, 82, 84, 55, 62, 52, 81, 86, 81, 52, 86,\n",
              "          47, 55, 44, 67, 63, 52, 82, 81, 81, 44, 52, 55, 52, 55, 55, 81, 80, 55,\n",
              "          44, 80, 62, 47, 81, 63, 55, 81, 55, 47]),\n",
              "  'scores': tensor([0.9943, 0.9886, 0.9625, 0.9046, 0.9044, 0.9027, 0.8800, 0.8290, 0.8278,\n",
              "          0.8212, 0.7828, 0.7669, 0.6758, 0.6336, 0.5739, 0.5215, 0.5204, 0.4837,\n",
              "          0.4741, 0.4501, 0.4474, 0.4294, 0.4084, 0.4043, 0.3769, 0.3628, 0.3377,\n",
              "          0.3350, 0.3132, 0.2829, 0.2650, 0.2508, 0.2496, 0.2413, 0.2190, 0.2135,\n",
              "          0.1736, 0.1730, 0.1327, 0.1309, 0.1267, 0.1263, 0.1160, 0.1145, 0.1102,\n",
              "          0.1016, 0.0982, 0.0886, 0.0869, 0.0858, 0.0808, 0.0737, 0.0728, 0.0678,\n",
              "          0.0673, 0.0658, 0.0650, 0.0622, 0.0616, 0.0575, 0.0547, 0.0534, 0.0515,\n",
              "          0.0501])}]"
            ]
          },
          "execution_count": 58,
          "metadata": {},
          "output_type": "execute_result"
        }
      ],
      "source": [
        "pred\n",
        "# видим координаты прямоугольников, labels и уверенность сети"
      ]
    },
    {
      "cell_type": "code",
      "execution_count": null,
      "metadata": {
        "id": "V5Q_m5IHkwzc"
      },
      "outputs": [],
      "source": [
        "bboxes, labels, scores = pred[0]['boxes'], pred[0]['labels'], pred[0]['scores']"
      ]
    },
    {
      "cell_type": "code",
      "execution_count": null,
      "metadata": {
        "id": "p31X4GzAlgKH"
      },
      "outputs": [],
      "source": [
        "num = torch.argwhere(scores > 0.9).shape[0]"
      ]
    },
    {
      "cell_type": "code",
      "execution_count": null,
      "metadata": {
        "colab": {
          "base_uri": "https://localhost:8080/"
        },
        "id": "oW0YakxJmMQY",
        "outputId": "86dda312-d122-4c85-eee7-70604f9e6d06"
      },
      "outputs": [
        {
          "data": {
            "text/plain": [
              "6"
            ]
          },
          "execution_count": 61,
          "metadata": {},
          "output_type": "execute_result"
        }
      ],
      "source": [
        "num"
      ]
    },
    {
      "cell_type": "code",
      "execution_count": null,
      "metadata": {
        "id": "da4gTNnDlisS"
      },
      "outputs": [],
      "source": [
        "coco_names = [\"person\" , \"bicycle\" , \"car\" , \"motorcycle\" , \"airplane\" , \"bus\" , \"train\" , \"truck\" , \"boat\" , \"traffic light\" , \"fire hydrant\" , \"street sign\" , \"stop sign\" , \"parking meter\" , \"bench\" , \"bird\" , \"cat\" , \"dog\" , \"horse\" , \"sheep\" , \"cow\" , \"elephant\" , \"bear\" , \"zebra\" , \"giraffe\" , \"hat\" , \"backpack\" , \"umbrella\" , \"shoe\" , \"eye glasses\" , \"handbag\" , \"tie\" , \"suitcase\" ,\n",
        "\"frisbee\" , \"skis\" , \"snowboard\" , \"sports ball\" , \"kite\" , \"baseball bat\" ,\n",
        "\"baseball glove\" , \"skateboard\" , \"surfboard\" , \"tennis racket\" , \"bottle\" ,\n",
        "\"plate\" , \"wine glass\" , \"cup\" , \"fork\" , \"knife\" , \"spoon\" , \"bowl\" ,\n",
        "\"banana\" , \"apple\" , \"sandwich\" , \"orange\" , \"broccoli\" , \"carrot\" , \"hot dog\" ,\n",
        "\"pizza\" , \"donut\" , \"cake\" , \"chair\" , \"couch\" , \"potted plant\" , \"bed\" ,\n",
        "\"mirror\" , \"dining table\" , \"window\" , \"desk\" , \"toilet\" , \"door\" , \"tv\" ,\n",
        "\"laptop\" , \"mouse\" , \"remote\" , \"keyboard\" , \"cell phone\" , \"microwave\" ,\n",
        "\"oven\" , \"toaster\" , \"sink\" , \"refrigerator\" , \"blender\" , \"book\" ,\n",
        "\"clock\" , \"vase\" , \"scissors\" , \"teddy bear\" , \"hair drier\" , \"toothbrush\" , \"hair brush\"]"
      ]
    },
    {
      "cell_type": "code",
      "execution_count": null,
      "metadata": {
        "id": "DZ9k7WjznLkk"
      },
      "outputs": [],
      "source": [
        "font = cv2.FONT_HERSHEY_SIMPLEX"
      ]
    },
    {
      "cell_type": "code",
      "execution_count": null,
      "metadata": {
        "id": "5w-gWK6pmCjE"
      },
      "outputs": [],
      "source": [
        "image = Image.open(\"/content/drive/My Drive/it_clinika/content/000000037777.jpg\")\n",
        "draw = ImageDraw.Draw(image)\n",
        "\n",
        "for i in range(num):\n",
        "  x1,y1,x2,y2 = bboxes[i].numpy().astype('int')\n",
        "\n",
        "  left_top, right_bottom = (x1, y1), (x2, y2)\n",
        "  draw.rectangle([left_top, right_bottom], outline='red', width=3)\n"
      ]
    },
    {
      "cell_type": "markdown",
      "metadata": {
        "id": "XxDYTC5EoHiH"
      },
      "source": [
        "# Работа с кастомным набором данных"
      ]
    },
    {
      "cell_type": "code",
      "execution_count": null,
      "metadata": {
        "id": "33_FEcHEfAzp"
      },
      "outputs": [],
      "source": [
        "import torchvision"
      ]
    },
    {
      "cell_type": "code",
      "execution_count": null,
      "metadata": {
        "id": "ZGeIeTobqta2"
      },
      "outputs": [],
      "source": [
        "model = torchvision.models.detection.fasterrcnn_resnet50_fpn(pretrained = True)"
      ]
    },
    {
      "cell_type": "code",
      "execution_count": null,
      "metadata": {
        "colab": {
          "base_uri": "https://localhost:8080/"
        },
        "id": "ipbSqghmXOwJ",
        "outputId": "c8f4a79a-1528-4746-e444-9ba420054bee"
      },
      "outputs": [
        {
          "data": {
            "text/plain": [
              "FasterRCNN(\n",
              "  (transform): GeneralizedRCNNTransform(\n",
              "      Normalize(mean=[0.485, 0.456, 0.406], std=[0.229, 0.224, 0.225])\n",
              "      Resize(min_size=(800,), max_size=1333, mode='bilinear')\n",
              "  )\n",
              "  (backbone): BackboneWithFPN(\n",
              "    (body): IntermediateLayerGetter(\n",
              "      (conv1): Conv2d(3, 64, kernel_size=(7, 7), stride=(2, 2), padding=(3, 3), bias=False)\n",
              "      (bn1): FrozenBatchNorm2d(64, eps=0.0)\n",
              "      (relu): ReLU(inplace=True)\n",
              "      (maxpool): MaxPool2d(kernel_size=3, stride=2, padding=1, dilation=1, ceil_mode=False)\n",
              "      (layer1): Sequential(\n",
              "        (0): Bottleneck(\n",
              "          (conv1): Conv2d(64, 64, kernel_size=(1, 1), stride=(1, 1), bias=False)\n",
              "          (bn1): FrozenBatchNorm2d(64, eps=0.0)\n",
              "          (conv2): Conv2d(64, 64, kernel_size=(3, 3), stride=(1, 1), padding=(1, 1), bias=False)\n",
              "          (bn2): FrozenBatchNorm2d(64, eps=0.0)\n",
              "          (conv3): Conv2d(64, 256, kernel_size=(1, 1), stride=(1, 1), bias=False)\n",
              "          (bn3): FrozenBatchNorm2d(256, eps=0.0)\n",
              "          (relu): ReLU(inplace=True)\n",
              "          (downsample): Sequential(\n",
              "            (0): Conv2d(64, 256, kernel_size=(1, 1), stride=(1, 1), bias=False)\n",
              "            (1): FrozenBatchNorm2d(256, eps=0.0)\n",
              "          )\n",
              "        )\n",
              "        (1): Bottleneck(\n",
              "          (conv1): Conv2d(256, 64, kernel_size=(1, 1), stride=(1, 1), bias=False)\n",
              "          (bn1): FrozenBatchNorm2d(64, eps=0.0)\n",
              "          (conv2): Conv2d(64, 64, kernel_size=(3, 3), stride=(1, 1), padding=(1, 1), bias=False)\n",
              "          (bn2): FrozenBatchNorm2d(64, eps=0.0)\n",
              "          (conv3): Conv2d(64, 256, kernel_size=(1, 1), stride=(1, 1), bias=False)\n",
              "          (bn3): FrozenBatchNorm2d(256, eps=0.0)\n",
              "          (relu): ReLU(inplace=True)\n",
              "        )\n",
              "        (2): Bottleneck(\n",
              "          (conv1): Conv2d(256, 64, kernel_size=(1, 1), stride=(1, 1), bias=False)\n",
              "          (bn1): FrozenBatchNorm2d(64, eps=0.0)\n",
              "          (conv2): Conv2d(64, 64, kernel_size=(3, 3), stride=(1, 1), padding=(1, 1), bias=False)\n",
              "          (bn2): FrozenBatchNorm2d(64, eps=0.0)\n",
              "          (conv3): Conv2d(64, 256, kernel_size=(1, 1), stride=(1, 1), bias=False)\n",
              "          (bn3): FrozenBatchNorm2d(256, eps=0.0)\n",
              "          (relu): ReLU(inplace=True)\n",
              "        )\n",
              "      )\n",
              "      (layer2): Sequential(\n",
              "        (0): Bottleneck(\n",
              "          (conv1): Conv2d(256, 128, kernel_size=(1, 1), stride=(1, 1), bias=False)\n",
              "          (bn1): FrozenBatchNorm2d(128, eps=0.0)\n",
              "          (conv2): Conv2d(128, 128, kernel_size=(3, 3), stride=(2, 2), padding=(1, 1), bias=False)\n",
              "          (bn2): FrozenBatchNorm2d(128, eps=0.0)\n",
              "          (conv3): Conv2d(128, 512, kernel_size=(1, 1), stride=(1, 1), bias=False)\n",
              "          (bn3): FrozenBatchNorm2d(512, eps=0.0)\n",
              "          (relu): ReLU(inplace=True)\n",
              "          (downsample): Sequential(\n",
              "            (0): Conv2d(256, 512, kernel_size=(1, 1), stride=(2, 2), bias=False)\n",
              "            (1): FrozenBatchNorm2d(512, eps=0.0)\n",
              "          )\n",
              "        )\n",
              "        (1): Bottleneck(\n",
              "          (conv1): Conv2d(512, 128, kernel_size=(1, 1), stride=(1, 1), bias=False)\n",
              "          (bn1): FrozenBatchNorm2d(128, eps=0.0)\n",
              "          (conv2): Conv2d(128, 128, kernel_size=(3, 3), stride=(1, 1), padding=(1, 1), bias=False)\n",
              "          (bn2): FrozenBatchNorm2d(128, eps=0.0)\n",
              "          (conv3): Conv2d(128, 512, kernel_size=(1, 1), stride=(1, 1), bias=False)\n",
              "          (bn3): FrozenBatchNorm2d(512, eps=0.0)\n",
              "          (relu): ReLU(inplace=True)\n",
              "        )\n",
              "        (2): Bottleneck(\n",
              "          (conv1): Conv2d(512, 128, kernel_size=(1, 1), stride=(1, 1), bias=False)\n",
              "          (bn1): FrozenBatchNorm2d(128, eps=0.0)\n",
              "          (conv2): Conv2d(128, 128, kernel_size=(3, 3), stride=(1, 1), padding=(1, 1), bias=False)\n",
              "          (bn2): FrozenBatchNorm2d(128, eps=0.0)\n",
              "          (conv3): Conv2d(128, 512, kernel_size=(1, 1), stride=(1, 1), bias=False)\n",
              "          (bn3): FrozenBatchNorm2d(512, eps=0.0)\n",
              "          (relu): ReLU(inplace=True)\n",
              "        )\n",
              "        (3): Bottleneck(\n",
              "          (conv1): Conv2d(512, 128, kernel_size=(1, 1), stride=(1, 1), bias=False)\n",
              "          (bn1): FrozenBatchNorm2d(128, eps=0.0)\n",
              "          (conv2): Conv2d(128, 128, kernel_size=(3, 3), stride=(1, 1), padding=(1, 1), bias=False)\n",
              "          (bn2): FrozenBatchNorm2d(128, eps=0.0)\n",
              "          (conv3): Conv2d(128, 512, kernel_size=(1, 1), stride=(1, 1), bias=False)\n",
              "          (bn3): FrozenBatchNorm2d(512, eps=0.0)\n",
              "          (relu): ReLU(inplace=True)\n",
              "        )\n",
              "      )\n",
              "      (layer3): Sequential(\n",
              "        (0): Bottleneck(\n",
              "          (conv1): Conv2d(512, 256, kernel_size=(1, 1), stride=(1, 1), bias=False)\n",
              "          (bn1): FrozenBatchNorm2d(256, eps=0.0)\n",
              "          (conv2): Conv2d(256, 256, kernel_size=(3, 3), stride=(2, 2), padding=(1, 1), bias=False)\n",
              "          (bn2): FrozenBatchNorm2d(256, eps=0.0)\n",
              "          (conv3): Conv2d(256, 1024, kernel_size=(1, 1), stride=(1, 1), bias=False)\n",
              "          (bn3): FrozenBatchNorm2d(1024, eps=0.0)\n",
              "          (relu): ReLU(inplace=True)\n",
              "          (downsample): Sequential(\n",
              "            (0): Conv2d(512, 1024, kernel_size=(1, 1), stride=(2, 2), bias=False)\n",
              "            (1): FrozenBatchNorm2d(1024, eps=0.0)\n",
              "          )\n",
              "        )\n",
              "        (1): Bottleneck(\n",
              "          (conv1): Conv2d(1024, 256, kernel_size=(1, 1), stride=(1, 1), bias=False)\n",
              "          (bn1): FrozenBatchNorm2d(256, eps=0.0)\n",
              "          (conv2): Conv2d(256, 256, kernel_size=(3, 3), stride=(1, 1), padding=(1, 1), bias=False)\n",
              "          (bn2): FrozenBatchNorm2d(256, eps=0.0)\n",
              "          (conv3): Conv2d(256, 1024, kernel_size=(1, 1), stride=(1, 1), bias=False)\n",
              "          (bn3): FrozenBatchNorm2d(1024, eps=0.0)\n",
              "          (relu): ReLU(inplace=True)\n",
              "        )\n",
              "        (2): Bottleneck(\n",
              "          (conv1): Conv2d(1024, 256, kernel_size=(1, 1), stride=(1, 1), bias=False)\n",
              "          (bn1): FrozenBatchNorm2d(256, eps=0.0)\n",
              "          (conv2): Conv2d(256, 256, kernel_size=(3, 3), stride=(1, 1), padding=(1, 1), bias=False)\n",
              "          (bn2): FrozenBatchNorm2d(256, eps=0.0)\n",
              "          (conv3): Conv2d(256, 1024, kernel_size=(1, 1), stride=(1, 1), bias=False)\n",
              "          (bn3): FrozenBatchNorm2d(1024, eps=0.0)\n",
              "          (relu): ReLU(inplace=True)\n",
              "        )\n",
              "        (3): Bottleneck(\n",
              "          (conv1): Conv2d(1024, 256, kernel_size=(1, 1), stride=(1, 1), bias=False)\n",
              "          (bn1): FrozenBatchNorm2d(256, eps=0.0)\n",
              "          (conv2): Conv2d(256, 256, kernel_size=(3, 3), stride=(1, 1), padding=(1, 1), bias=False)\n",
              "          (bn2): FrozenBatchNorm2d(256, eps=0.0)\n",
              "          (conv3): Conv2d(256, 1024, kernel_size=(1, 1), stride=(1, 1), bias=False)\n",
              "          (bn3): FrozenBatchNorm2d(1024, eps=0.0)\n",
              "          (relu): ReLU(inplace=True)\n",
              "        )\n",
              "        (4): Bottleneck(\n",
              "          (conv1): Conv2d(1024, 256, kernel_size=(1, 1), stride=(1, 1), bias=False)\n",
              "          (bn1): FrozenBatchNorm2d(256, eps=0.0)\n",
              "          (conv2): Conv2d(256, 256, kernel_size=(3, 3), stride=(1, 1), padding=(1, 1), bias=False)\n",
              "          (bn2): FrozenBatchNorm2d(256, eps=0.0)\n",
              "          (conv3): Conv2d(256, 1024, kernel_size=(1, 1), stride=(1, 1), bias=False)\n",
              "          (bn3): FrozenBatchNorm2d(1024, eps=0.0)\n",
              "          (relu): ReLU(inplace=True)\n",
              "        )\n",
              "        (5): Bottleneck(\n",
              "          (conv1): Conv2d(1024, 256, kernel_size=(1, 1), stride=(1, 1), bias=False)\n",
              "          (bn1): FrozenBatchNorm2d(256, eps=0.0)\n",
              "          (conv2): Conv2d(256, 256, kernel_size=(3, 3), stride=(1, 1), padding=(1, 1), bias=False)\n",
              "          (bn2): FrozenBatchNorm2d(256, eps=0.0)\n",
              "          (conv3): Conv2d(256, 1024, kernel_size=(1, 1), stride=(1, 1), bias=False)\n",
              "          (bn3): FrozenBatchNorm2d(1024, eps=0.0)\n",
              "          (relu): ReLU(inplace=True)\n",
              "        )\n",
              "      )\n",
              "      (layer4): Sequential(\n",
              "        (0): Bottleneck(\n",
              "          (conv1): Conv2d(1024, 512, kernel_size=(1, 1), stride=(1, 1), bias=False)\n",
              "          (bn1): FrozenBatchNorm2d(512, eps=0.0)\n",
              "          (conv2): Conv2d(512, 512, kernel_size=(3, 3), stride=(2, 2), padding=(1, 1), bias=False)\n",
              "          (bn2): FrozenBatchNorm2d(512, eps=0.0)\n",
              "          (conv3): Conv2d(512, 2048, kernel_size=(1, 1), stride=(1, 1), bias=False)\n",
              "          (bn3): FrozenBatchNorm2d(2048, eps=0.0)\n",
              "          (relu): ReLU(inplace=True)\n",
              "          (downsample): Sequential(\n",
              "            (0): Conv2d(1024, 2048, kernel_size=(1, 1), stride=(2, 2), bias=False)\n",
              "            (1): FrozenBatchNorm2d(2048, eps=0.0)\n",
              "          )\n",
              "        )\n",
              "        (1): Bottleneck(\n",
              "          (conv1): Conv2d(2048, 512, kernel_size=(1, 1), stride=(1, 1), bias=False)\n",
              "          (bn1): FrozenBatchNorm2d(512, eps=0.0)\n",
              "          (conv2): Conv2d(512, 512, kernel_size=(3, 3), stride=(1, 1), padding=(1, 1), bias=False)\n",
              "          (bn2): FrozenBatchNorm2d(512, eps=0.0)\n",
              "          (conv3): Conv2d(512, 2048, kernel_size=(1, 1), stride=(1, 1), bias=False)\n",
              "          (bn3): FrozenBatchNorm2d(2048, eps=0.0)\n",
              "          (relu): ReLU(inplace=True)\n",
              "        )\n",
              "        (2): Bottleneck(\n",
              "          (conv1): Conv2d(2048, 512, kernel_size=(1, 1), stride=(1, 1), bias=False)\n",
              "          (bn1): FrozenBatchNorm2d(512, eps=0.0)\n",
              "          (conv2): Conv2d(512, 512, kernel_size=(3, 3), stride=(1, 1), padding=(1, 1), bias=False)\n",
              "          (bn2): FrozenBatchNorm2d(512, eps=0.0)\n",
              "          (conv3): Conv2d(512, 2048, kernel_size=(1, 1), stride=(1, 1), bias=False)\n",
              "          (bn3): FrozenBatchNorm2d(2048, eps=0.0)\n",
              "          (relu): ReLU(inplace=True)\n",
              "        )\n",
              "      )\n",
              "    )\n",
              "    (fpn): FeaturePyramidNetwork(\n",
              "      (inner_blocks): ModuleList(\n",
              "        (0): Conv2dNormActivation(\n",
              "          (0): Conv2d(256, 256, kernel_size=(1, 1), stride=(1, 1))\n",
              "        )\n",
              "        (1): Conv2dNormActivation(\n",
              "          (0): Conv2d(512, 256, kernel_size=(1, 1), stride=(1, 1))\n",
              "        )\n",
              "        (2): Conv2dNormActivation(\n",
              "          (0): Conv2d(1024, 256, kernel_size=(1, 1), stride=(1, 1))\n",
              "        )\n",
              "        (3): Conv2dNormActivation(\n",
              "          (0): Conv2d(2048, 256, kernel_size=(1, 1), stride=(1, 1))\n",
              "        )\n",
              "      )\n",
              "      (layer_blocks): ModuleList(\n",
              "        (0-3): 4 x Conv2dNormActivation(\n",
              "          (0): Conv2d(256, 256, kernel_size=(3, 3), stride=(1, 1), padding=(1, 1))\n",
              "        )\n",
              "      )\n",
              "      (extra_blocks): LastLevelMaxPool()\n",
              "    )\n",
              "  )\n",
              "  (rpn): RegionProposalNetwork(\n",
              "    (anchor_generator): AnchorGenerator()\n",
              "    (head): RPNHead(\n",
              "      (conv): Sequential(\n",
              "        (0): Conv2dNormActivation(\n",
              "          (0): Conv2d(256, 256, kernel_size=(3, 3), stride=(1, 1), padding=(1, 1))\n",
              "          (1): ReLU(inplace=True)\n",
              "        )\n",
              "      )\n",
              "      (cls_logits): Conv2d(256, 3, kernel_size=(1, 1), stride=(1, 1))\n",
              "      (bbox_pred): Conv2d(256, 12, kernel_size=(1, 1), stride=(1, 1))\n",
              "    )\n",
              "  )\n",
              "  (roi_heads): RoIHeads(\n",
              "    (box_roi_pool): MultiScaleRoIAlign(featmap_names=['0', '1', '2', '3'], output_size=(7, 7), sampling_ratio=2)\n",
              "    (box_head): TwoMLPHead(\n",
              "      (fc6): Linear(in_features=12544, out_features=1024, bias=True)\n",
              "      (fc7): Linear(in_features=1024, out_features=1024, bias=True)\n",
              "    )\n",
              "    (box_predictor): FastRCNNPredictor(\n",
              "      (cls_score): Linear(in_features=1024, out_features=91, bias=True)\n",
              "      (bbox_pred): Linear(in_features=1024, out_features=364, bias=True)\n",
              "    )\n",
              "  )\n",
              ")"
            ]
          },
          "execution_count": 67,
          "metadata": {},
          "output_type": "execute_result"
        }
      ],
      "source": [
        "model"
      ]
    },
    {
      "cell_type": "markdown",
      "metadata": {
        "id": "9CgfnEkprW72"
      },
      "source": [
        "### train data"
      ]
    },
    {
      "cell_type": "code",
      "execution_count": null,
      "metadata": {
        "id": "oQF5Z-8bq89d"
      },
      "outputs": [],
      "source": [
        "# уберем последний слой и заменим на наш\n",
        "import numpy\n",
        "import pandas as pd\n",
        "import os"
      ]
    },
    {
      "cell_type": "code",
      "execution_count": null,
      "metadata": {
        "id": "yEGExy6jrbVf"
      },
      "outputs": [],
      "source": [
        "import random\n",
        "from PIL import Image, ImageDraw\n",
        "from collections import Counter\n",
        "import matplotlib.pyplot as plt\n",
        "from sklearn.model_selection import train_test_split\n",
        "\n",
        "import torch\n",
        "import torchvision\n",
        "from torchvision import transforms as T\n",
        "from torchvision.models.detection.faster_rcnn import FastRCNNPredictor"
      ]
    },
    {
      "cell_type": "code",
      "execution_count": null,
      "metadata": {
        "id": "yYVNAhYhsLxf"
      },
      "outputs": [],
      "source": [
        "train = pd.read_csv('/content/drive/My Drive/it_clinika/dataset/detection/train/bbox.csv')"
      ]
    },
    {
      "cell_type": "code",
      "execution_count": null,
      "metadata": {
        "colab": {
          "base_uri": "https://localhost:8080/",
          "height": 206
        },
        "id": "-U-hKoM5y33s",
        "outputId": "02b2f75d-d461-4f02-82f8-6eb25241a21a"
      },
      "outputs": [
        {
          "data": {
            "application/vnd.google.colaboratory.intrinsic+json": {
              "summary": "{\n  \"name\": \"train\",\n  \"rows\": 980,\n  \"fields\": [\n    {\n      \"column\": \"Unnamed: 0\",\n      \"properties\": {\n        \"dtype\": \"number\",\n        \"std\": 21886,\n        \"min\": 0,\n        \"max\": 67772,\n        \"num_unique_values\": 971,\n        \"samples\": [\n          29485,\n          49140,\n          6970\n        ],\n        \"semantic_type\": \"\",\n        \"description\": \"\"\n      }\n    },\n    {\n      \"column\": \"image_id\",\n      \"properties\": {\n        \"dtype\": \"category\",\n        \"num_unique_values\": 145,\n        \"samples\": [\n          \"43d334915f96e4cd350534dd47173791\",\n          \"2592036272857648c597c9045a6588d1\",\n          \"4ce311cd58824cdd3b6ca3e0878bb9c1\"\n        ],\n        \"semantic_type\": \"\",\n        \"description\": \"\"\n      }\n    },\n    {\n      \"column\": \"class_name\",\n      \"properties\": {\n        \"dtype\": \"category\",\n        \"num_unique_values\": 15,\n        \"samples\": [\n          \"Consolidation\",\n          \"Infiltration\",\n          \"Cardiomegaly\"\n        ],\n        \"semantic_type\": \"\",\n        \"description\": \"\"\n      }\n    },\n    {\n      \"column\": \"class_id\",\n      \"properties\": {\n        \"dtype\": \"number\",\n        \"std\": 4,\n        \"min\": 0,\n        \"max\": 14,\n        \"num_unique_values\": 15,\n        \"samples\": [\n          4,\n          6,\n          3\n        ],\n        \"semantic_type\": \"\",\n        \"description\": \"\"\n      }\n    },\n    {\n      \"column\": \"rad_id\",\n      \"properties\": {\n        \"dtype\": \"category\",\n        \"num_unique_values\": 17,\n        \"samples\": [\n          \"R10\",\n          \"R8\",\n          \"R16\"\n        ],\n        \"semantic_type\": \"\",\n        \"description\": \"\"\n      }\n    },\n    {\n      \"column\": \"x_min\",\n      \"properties\": {\n        \"dtype\": \"number\",\n        \"std\": 555.8121875387828,\n        \"min\": 1.0,\n        \"max\": 2615.0,\n        \"num_unique_values\": 593,\n        \"samples\": [\n          1180.0,\n          1040.0,\n          1355.0\n        ],\n        \"semantic_type\": \"\",\n        \"description\": \"\"\n      }\n    },\n    {\n      \"column\": \"y_min\",\n      \"properties\": {\n        \"dtype\": \"number\",\n        \"std\": 530.6530366614926,\n        \"min\": 122.0,\n        \"max\": 2834.0,\n        \"num_unique_values\": 598,\n        \"samples\": [\n          729.0,\n          1519.0,\n          572.0\n        ],\n        \"semantic_type\": \"\",\n        \"description\": \"\"\n      }\n    },\n    {\n      \"column\": \"x_max\",\n      \"properties\": {\n        \"dtype\": \"number\",\n        \"std\": 563.5351099150488,\n        \"min\": 128.0,\n        \"max\": 2769.0,\n        \"num_unique_values\": 604,\n        \"samples\": [\n          1446.0,\n          990.0,\n          1996.0\n        ],\n        \"semantic_type\": \"\",\n        \"description\": \"\"\n      }\n    },\n    {\n      \"column\": \"y_max\",\n      \"properties\": {\n        \"dtype\": \"number\",\n        \"std\": 559.5311483676096,\n        \"min\": 219.0,\n        \"max\": 2925.0,\n        \"num_unique_values\": 598,\n        \"samples\": [\n          1684.0,\n          1199.0,\n          1109.0\n        ],\n        \"semantic_type\": \"\",\n        \"description\": \"\"\n      }\n    }\n  ]\n}",
              "type": "dataframe",
              "variable_name": "train"
            },
            "text/html": [
              "\n",
              "  <div id=\"df-e7281d5c-b1b5-46c3-bb61-6b46a15ff294\" class=\"colab-df-container\">\n",
              "    <div>\n",
              "<style scoped>\n",
              "    .dataframe tbody tr th:only-of-type {\n",
              "        vertical-align: middle;\n",
              "    }\n",
              "\n",
              "    .dataframe tbody tr th {\n",
              "        vertical-align: top;\n",
              "    }\n",
              "\n",
              "    .dataframe thead th {\n",
              "        text-align: right;\n",
              "    }\n",
              "</style>\n",
              "<table border=\"1\" class=\"dataframe\">\n",
              "  <thead>\n",
              "    <tr style=\"text-align: right;\">\n",
              "      <th></th>\n",
              "      <th>Unnamed: 0</th>\n",
              "      <th>image_id</th>\n",
              "      <th>class_name</th>\n",
              "      <th>class_id</th>\n",
              "      <th>rad_id</th>\n",
              "      <th>x_min</th>\n",
              "      <th>y_min</th>\n",
              "      <th>x_max</th>\n",
              "      <th>y_max</th>\n",
              "    </tr>\n",
              "  </thead>\n",
              "  <tbody>\n",
              "    <tr>\n",
              "      <th>0</th>\n",
              "      <td>20</td>\n",
              "      <td>0622cd29e4e0e4f198abf15614819ae8</td>\n",
              "      <td>Cardiomegaly</td>\n",
              "      <td>3</td>\n",
              "      <td>R10</td>\n",
              "      <td>1044.0</td>\n",
              "      <td>1579.0</td>\n",
              "      <td>2098.0</td>\n",
              "      <td>1971.0</td>\n",
              "    </tr>\n",
              "    <tr>\n",
              "      <th>1</th>\n",
              "      <td>43</td>\n",
              "      <td>4016b176eaf40d514b0559a0aeb48f21</td>\n",
              "      <td>Cardiomegaly</td>\n",
              "      <td>3</td>\n",
              "      <td>R10</td>\n",
              "      <td>1109.0</td>\n",
              "      <td>1552.0</td>\n",
              "      <td>2416.0</td>\n",
              "      <td>2033.0</td>\n",
              "    </tr>\n",
              "    <tr>\n",
              "      <th>2</th>\n",
              "      <td>45</td>\n",
              "      <td>25f2c7b53a6ed09a9aaf73c30357aaf6</td>\n",
              "      <td>Cardiomegaly</td>\n",
              "      <td>3</td>\n",
              "      <td>R8</td>\n",
              "      <td>707.0</td>\n",
              "      <td>1316.0</td>\n",
              "      <td>2026.0</td>\n",
              "      <td>1686.0</td>\n",
              "    </tr>\n",
              "    <tr>\n",
              "      <th>3</th>\n",
              "      <td>47</td>\n",
              "      <td>18ee9ef3baea468de2087e0edd85e919</td>\n",
              "      <td>Cardiomegaly</td>\n",
              "      <td>3</td>\n",
              "      <td>R8</td>\n",
              "      <td>862.0</td>\n",
              "      <td>1829.0</td>\n",
              "      <td>1963.0</td>\n",
              "      <td>2185.0</td>\n",
              "    </tr>\n",
              "    <tr>\n",
              "      <th>4</th>\n",
              "      <td>133</td>\n",
              "      <td>33403064ce25caa5fda270e6158c6b03</td>\n",
              "      <td>Cardiomegaly</td>\n",
              "      <td>3</td>\n",
              "      <td>R8</td>\n",
              "      <td>1248.0</td>\n",
              "      <td>1392.0</td>\n",
              "      <td>2458.0</td>\n",
              "      <td>1798.0</td>\n",
              "    </tr>\n",
              "  </tbody>\n",
              "</table>\n",
              "</div>\n",
              "    <div class=\"colab-df-buttons\">\n",
              "\n",
              "  <div class=\"colab-df-container\">\n",
              "    <button class=\"colab-df-convert\" onclick=\"convertToInteractive('df-e7281d5c-b1b5-46c3-bb61-6b46a15ff294')\"\n",
              "            title=\"Convert this dataframe to an interactive table.\"\n",
              "            style=\"display:none;\">\n",
              "\n",
              "  <svg xmlns=\"http://www.w3.org/2000/svg\" height=\"24px\" viewBox=\"0 -960 960 960\">\n",
              "    <path d=\"M120-120v-720h720v720H120Zm60-500h600v-160H180v160Zm220 220h160v-160H400v160Zm0 220h160v-160H400v160ZM180-400h160v-160H180v160Zm440 0h160v-160H620v160ZM180-180h160v-160H180v160Zm440 0h160v-160H620v160Z\"/>\n",
              "  </svg>\n",
              "    </button>\n",
              "\n",
              "  <style>\n",
              "    .colab-df-container {\n",
              "      display:flex;\n",
              "      gap: 12px;\n",
              "    }\n",
              "\n",
              "    .colab-df-convert {\n",
              "      background-color: #E8F0FE;\n",
              "      border: none;\n",
              "      border-radius: 50%;\n",
              "      cursor: pointer;\n",
              "      display: none;\n",
              "      fill: #1967D2;\n",
              "      height: 32px;\n",
              "      padding: 0 0 0 0;\n",
              "      width: 32px;\n",
              "    }\n",
              "\n",
              "    .colab-df-convert:hover {\n",
              "      background-color: #E2EBFA;\n",
              "      box-shadow: 0px 1px 2px rgba(60, 64, 67, 0.3), 0px 1px 3px 1px rgba(60, 64, 67, 0.15);\n",
              "      fill: #174EA6;\n",
              "    }\n",
              "\n",
              "    .colab-df-buttons div {\n",
              "      margin-bottom: 4px;\n",
              "    }\n",
              "\n",
              "    [theme=dark] .colab-df-convert {\n",
              "      background-color: #3B4455;\n",
              "      fill: #D2E3FC;\n",
              "    }\n",
              "\n",
              "    [theme=dark] .colab-df-convert:hover {\n",
              "      background-color: #434B5C;\n",
              "      box-shadow: 0px 1px 3px 1px rgba(0, 0, 0, 0.15);\n",
              "      filter: drop-shadow(0px 1px 2px rgba(0, 0, 0, 0.3));\n",
              "      fill: #FFFFFF;\n",
              "    }\n",
              "  </style>\n",
              "\n",
              "    <script>\n",
              "      const buttonEl =\n",
              "        document.querySelector('#df-e7281d5c-b1b5-46c3-bb61-6b46a15ff294 button.colab-df-convert');\n",
              "      buttonEl.style.display =\n",
              "        google.colab.kernel.accessAllowed ? 'block' : 'none';\n",
              "\n",
              "      async function convertToInteractive(key) {\n",
              "        const element = document.querySelector('#df-e7281d5c-b1b5-46c3-bb61-6b46a15ff294');\n",
              "        const dataTable =\n",
              "          await google.colab.kernel.invokeFunction('convertToInteractive',\n",
              "                                                    [key], {});\n",
              "        if (!dataTable) return;\n",
              "\n",
              "        const docLinkHtml = 'Like what you see? Visit the ' +\n",
              "          '<a target=\"_blank\" href=https://colab.research.google.com/notebooks/data_table.ipynb>data table notebook</a>'\n",
              "          + ' to learn more about interactive tables.';\n",
              "        element.innerHTML = '';\n",
              "        dataTable['output_type'] = 'display_data';\n",
              "        await google.colab.output.renderOutput(dataTable, element);\n",
              "        const docLink = document.createElement('div');\n",
              "        docLink.innerHTML = docLinkHtml;\n",
              "        element.appendChild(docLink);\n",
              "      }\n",
              "    </script>\n",
              "  </div>\n",
              "\n",
              "\n",
              "<div id=\"df-d41136c9-657b-4f50-8f05-cfeea093be3e\">\n",
              "  <button class=\"colab-df-quickchart\" onclick=\"quickchart('df-d41136c9-657b-4f50-8f05-cfeea093be3e')\"\n",
              "            title=\"Suggest charts\"\n",
              "            style=\"display:none;\">\n",
              "\n",
              "<svg xmlns=\"http://www.w3.org/2000/svg\" height=\"24px\"viewBox=\"0 0 24 24\"\n",
              "     width=\"24px\">\n",
              "    <g>\n",
              "        <path d=\"M19 3H5c-1.1 0-2 .9-2 2v14c0 1.1.9 2 2 2h14c1.1 0 2-.9 2-2V5c0-1.1-.9-2-2-2zM9 17H7v-7h2v7zm4 0h-2V7h2v10zm4 0h-2v-4h2v4z\"/>\n",
              "    </g>\n",
              "</svg>\n",
              "  </button>\n",
              "\n",
              "<style>\n",
              "  .colab-df-quickchart {\n",
              "      --bg-color: #E8F0FE;\n",
              "      --fill-color: #1967D2;\n",
              "      --hover-bg-color: #E2EBFA;\n",
              "      --hover-fill-color: #174EA6;\n",
              "      --disabled-fill-color: #AAA;\n",
              "      --disabled-bg-color: #DDD;\n",
              "  }\n",
              "\n",
              "  [theme=dark] .colab-df-quickchart {\n",
              "      --bg-color: #3B4455;\n",
              "      --fill-color: #D2E3FC;\n",
              "      --hover-bg-color: #434B5C;\n",
              "      --hover-fill-color: #FFFFFF;\n",
              "      --disabled-bg-color: #3B4455;\n",
              "      --disabled-fill-color: #666;\n",
              "  }\n",
              "\n",
              "  .colab-df-quickchart {\n",
              "    background-color: var(--bg-color);\n",
              "    border: none;\n",
              "    border-radius: 50%;\n",
              "    cursor: pointer;\n",
              "    display: none;\n",
              "    fill: var(--fill-color);\n",
              "    height: 32px;\n",
              "    padding: 0;\n",
              "    width: 32px;\n",
              "  }\n",
              "\n",
              "  .colab-df-quickchart:hover {\n",
              "    background-color: var(--hover-bg-color);\n",
              "    box-shadow: 0 1px 2px rgba(60, 64, 67, 0.3), 0 1px 3px 1px rgba(60, 64, 67, 0.15);\n",
              "    fill: var(--button-hover-fill-color);\n",
              "  }\n",
              "\n",
              "  .colab-df-quickchart-complete:disabled,\n",
              "  .colab-df-quickchart-complete:disabled:hover {\n",
              "    background-color: var(--disabled-bg-color);\n",
              "    fill: var(--disabled-fill-color);\n",
              "    box-shadow: none;\n",
              "  }\n",
              "\n",
              "  .colab-df-spinner {\n",
              "    border: 2px solid var(--fill-color);\n",
              "    border-color: transparent;\n",
              "    border-bottom-color: var(--fill-color);\n",
              "    animation:\n",
              "      spin 1s steps(1) infinite;\n",
              "  }\n",
              "\n",
              "  @keyframes spin {\n",
              "    0% {\n",
              "      border-color: transparent;\n",
              "      border-bottom-color: var(--fill-color);\n",
              "      border-left-color: var(--fill-color);\n",
              "    }\n",
              "    20% {\n",
              "      border-color: transparent;\n",
              "      border-left-color: var(--fill-color);\n",
              "      border-top-color: var(--fill-color);\n",
              "    }\n",
              "    30% {\n",
              "      border-color: transparent;\n",
              "      border-left-color: var(--fill-color);\n",
              "      border-top-color: var(--fill-color);\n",
              "      border-right-color: var(--fill-color);\n",
              "    }\n",
              "    40% {\n",
              "      border-color: transparent;\n",
              "      border-right-color: var(--fill-color);\n",
              "      border-top-color: var(--fill-color);\n",
              "    }\n",
              "    60% {\n",
              "      border-color: transparent;\n",
              "      border-right-color: var(--fill-color);\n",
              "    }\n",
              "    80% {\n",
              "      border-color: transparent;\n",
              "      border-right-color: var(--fill-color);\n",
              "      border-bottom-color: var(--fill-color);\n",
              "    }\n",
              "    90% {\n",
              "      border-color: transparent;\n",
              "      border-bottom-color: var(--fill-color);\n",
              "    }\n",
              "  }\n",
              "</style>\n",
              "\n",
              "  <script>\n",
              "    async function quickchart(key) {\n",
              "      const quickchartButtonEl =\n",
              "        document.querySelector('#' + key + ' button');\n",
              "      quickchartButtonEl.disabled = true;  // To prevent multiple clicks.\n",
              "      quickchartButtonEl.classList.add('colab-df-spinner');\n",
              "      try {\n",
              "        const charts = await google.colab.kernel.invokeFunction(\n",
              "            'suggestCharts', [key], {});\n",
              "      } catch (error) {\n",
              "        console.error('Error during call to suggestCharts:', error);\n",
              "      }\n",
              "      quickchartButtonEl.classList.remove('colab-df-spinner');\n",
              "      quickchartButtonEl.classList.add('colab-df-quickchart-complete');\n",
              "    }\n",
              "    (() => {\n",
              "      let quickchartButtonEl =\n",
              "        document.querySelector('#df-d41136c9-657b-4f50-8f05-cfeea093be3e button');\n",
              "      quickchartButtonEl.style.display =\n",
              "        google.colab.kernel.accessAllowed ? 'block' : 'none';\n",
              "    })();\n",
              "  </script>\n",
              "</div>\n",
              "    </div>\n",
              "  </div>\n"
            ],
            "text/plain": [
              "   Unnamed: 0                          image_id    class_name  class_id  \\\n",
              "0          20  0622cd29e4e0e4f198abf15614819ae8  Cardiomegaly         3   \n",
              "1          43  4016b176eaf40d514b0559a0aeb48f21  Cardiomegaly         3   \n",
              "2          45  25f2c7b53a6ed09a9aaf73c30357aaf6  Cardiomegaly         3   \n",
              "3          47  18ee9ef3baea468de2087e0edd85e919  Cardiomegaly         3   \n",
              "4         133  33403064ce25caa5fda270e6158c6b03  Cardiomegaly         3   \n",
              "\n",
              "  rad_id   x_min   y_min   x_max   y_max  \n",
              "0    R10  1044.0  1579.0  2098.0  1971.0  \n",
              "1    R10  1109.0  1552.0  2416.0  2033.0  \n",
              "2     R8   707.0  1316.0  2026.0  1686.0  \n",
              "3     R8   862.0  1829.0  1963.0  2185.0  \n",
              "4     R8  1248.0  1392.0  2458.0  1798.0  "
            ]
          },
          "execution_count": 72,
          "metadata": {},
          "output_type": "execute_result"
        }
      ],
      "source": [
        "train.head()"
      ]
    },
    {
      "cell_type": "code",
      "execution_count": null,
      "metadata": {
        "id": "4I1mDFRJUY12"
      },
      "outputs": [],
      "source": [
        "df = train"
      ]
    },
    {
      "cell_type": "code",
      "execution_count": null,
      "metadata": {
        "colab": {
          "base_uri": "https://localhost:8080/",
          "height": 206
        },
        "id": "cdOEOcfXYlkj",
        "outputId": "0bddca4a-9bf0-4ff6-8ad9-70030584d8d4"
      },
      "outputs": [
        {
          "data": {
            "application/vnd.google.colaboratory.intrinsic+json": {
              "summary": "{\n  \"name\": \"df\",\n  \"rows\": 980,\n  \"fields\": [\n    {\n      \"column\": \"Unnamed: 0\",\n      \"properties\": {\n        \"dtype\": \"number\",\n        \"std\": 21886,\n        \"min\": 0,\n        \"max\": 67772,\n        \"num_unique_values\": 971,\n        \"samples\": [\n          29485,\n          49140,\n          6970\n        ],\n        \"semantic_type\": \"\",\n        \"description\": \"\"\n      }\n    },\n    {\n      \"column\": \"image_id\",\n      \"properties\": {\n        \"dtype\": \"category\",\n        \"num_unique_values\": 145,\n        \"samples\": [\n          \"43d334915f96e4cd350534dd47173791\",\n          \"2592036272857648c597c9045a6588d1\",\n          \"4ce311cd58824cdd3b6ca3e0878bb9c1\"\n        ],\n        \"semantic_type\": \"\",\n        \"description\": \"\"\n      }\n    },\n    {\n      \"column\": \"class_name\",\n      \"properties\": {\n        \"dtype\": \"category\",\n        \"num_unique_values\": 15,\n        \"samples\": [\n          \"Consolidation\",\n          \"Infiltration\",\n          \"Cardiomegaly\"\n        ],\n        \"semantic_type\": \"\",\n        \"description\": \"\"\n      }\n    },\n    {\n      \"column\": \"class_id\",\n      \"properties\": {\n        \"dtype\": \"number\",\n        \"std\": 4,\n        \"min\": 0,\n        \"max\": 14,\n        \"num_unique_values\": 15,\n        \"samples\": [\n          4,\n          6,\n          3\n        ],\n        \"semantic_type\": \"\",\n        \"description\": \"\"\n      }\n    },\n    {\n      \"column\": \"rad_id\",\n      \"properties\": {\n        \"dtype\": \"category\",\n        \"num_unique_values\": 17,\n        \"samples\": [\n          \"R10\",\n          \"R8\",\n          \"R16\"\n        ],\n        \"semantic_type\": \"\",\n        \"description\": \"\"\n      }\n    },\n    {\n      \"column\": \"x_min\",\n      \"properties\": {\n        \"dtype\": \"number\",\n        \"std\": 555.8121875387828,\n        \"min\": 1.0,\n        \"max\": 2615.0,\n        \"num_unique_values\": 593,\n        \"samples\": [\n          1180.0,\n          1040.0,\n          1355.0\n        ],\n        \"semantic_type\": \"\",\n        \"description\": \"\"\n      }\n    },\n    {\n      \"column\": \"y_min\",\n      \"properties\": {\n        \"dtype\": \"number\",\n        \"std\": 530.6530366614926,\n        \"min\": 122.0,\n        \"max\": 2834.0,\n        \"num_unique_values\": 598,\n        \"samples\": [\n          729.0,\n          1519.0,\n          572.0\n        ],\n        \"semantic_type\": \"\",\n        \"description\": \"\"\n      }\n    },\n    {\n      \"column\": \"x_max\",\n      \"properties\": {\n        \"dtype\": \"number\",\n        \"std\": 563.5351099150488,\n        \"min\": 128.0,\n        \"max\": 2769.0,\n        \"num_unique_values\": 604,\n        \"samples\": [\n          1446.0,\n          990.0,\n          1996.0\n        ],\n        \"semantic_type\": \"\",\n        \"description\": \"\"\n      }\n    },\n    {\n      \"column\": \"y_max\",\n      \"properties\": {\n        \"dtype\": \"number\",\n        \"std\": 559.5311483676096,\n        \"min\": 219.0,\n        \"max\": 2925.0,\n        \"num_unique_values\": 598,\n        \"samples\": [\n          1684.0,\n          1199.0,\n          1109.0\n        ],\n        \"semantic_type\": \"\",\n        \"description\": \"\"\n      }\n    }\n  ]\n}",
              "type": "dataframe",
              "variable_name": "df"
            },
            "text/html": [
              "\n",
              "  <div id=\"df-b3a8c5a7-56c0-4a63-956d-2b1e262bbecf\" class=\"colab-df-container\">\n",
              "    <div>\n",
              "<style scoped>\n",
              "    .dataframe tbody tr th:only-of-type {\n",
              "        vertical-align: middle;\n",
              "    }\n",
              "\n",
              "    .dataframe tbody tr th {\n",
              "        vertical-align: top;\n",
              "    }\n",
              "\n",
              "    .dataframe thead th {\n",
              "        text-align: right;\n",
              "    }\n",
              "</style>\n",
              "<table border=\"1\" class=\"dataframe\">\n",
              "  <thead>\n",
              "    <tr style=\"text-align: right;\">\n",
              "      <th></th>\n",
              "      <th>Unnamed: 0</th>\n",
              "      <th>image_id</th>\n",
              "      <th>class_name</th>\n",
              "      <th>class_id</th>\n",
              "      <th>rad_id</th>\n",
              "      <th>x_min</th>\n",
              "      <th>y_min</th>\n",
              "      <th>x_max</th>\n",
              "      <th>y_max</th>\n",
              "    </tr>\n",
              "  </thead>\n",
              "  <tbody>\n",
              "    <tr>\n",
              "      <th>0</th>\n",
              "      <td>20</td>\n",
              "      <td>0622cd29e4e0e4f198abf15614819ae8</td>\n",
              "      <td>Cardiomegaly</td>\n",
              "      <td>3</td>\n",
              "      <td>R10</td>\n",
              "      <td>1044.0</td>\n",
              "      <td>1579.0</td>\n",
              "      <td>2098.0</td>\n",
              "      <td>1971.0</td>\n",
              "    </tr>\n",
              "    <tr>\n",
              "      <th>1</th>\n",
              "      <td>43</td>\n",
              "      <td>4016b176eaf40d514b0559a0aeb48f21</td>\n",
              "      <td>Cardiomegaly</td>\n",
              "      <td>3</td>\n",
              "      <td>R10</td>\n",
              "      <td>1109.0</td>\n",
              "      <td>1552.0</td>\n",
              "      <td>2416.0</td>\n",
              "      <td>2033.0</td>\n",
              "    </tr>\n",
              "    <tr>\n",
              "      <th>2</th>\n",
              "      <td>45</td>\n",
              "      <td>25f2c7b53a6ed09a9aaf73c30357aaf6</td>\n",
              "      <td>Cardiomegaly</td>\n",
              "      <td>3</td>\n",
              "      <td>R8</td>\n",
              "      <td>707.0</td>\n",
              "      <td>1316.0</td>\n",
              "      <td>2026.0</td>\n",
              "      <td>1686.0</td>\n",
              "    </tr>\n",
              "    <tr>\n",
              "      <th>3</th>\n",
              "      <td>47</td>\n",
              "      <td>18ee9ef3baea468de2087e0edd85e919</td>\n",
              "      <td>Cardiomegaly</td>\n",
              "      <td>3</td>\n",
              "      <td>R8</td>\n",
              "      <td>862.0</td>\n",
              "      <td>1829.0</td>\n",
              "      <td>1963.0</td>\n",
              "      <td>2185.0</td>\n",
              "    </tr>\n",
              "    <tr>\n",
              "      <th>4</th>\n",
              "      <td>133</td>\n",
              "      <td>33403064ce25caa5fda270e6158c6b03</td>\n",
              "      <td>Cardiomegaly</td>\n",
              "      <td>3</td>\n",
              "      <td>R8</td>\n",
              "      <td>1248.0</td>\n",
              "      <td>1392.0</td>\n",
              "      <td>2458.0</td>\n",
              "      <td>1798.0</td>\n",
              "    </tr>\n",
              "  </tbody>\n",
              "</table>\n",
              "</div>\n",
              "    <div class=\"colab-df-buttons\">\n",
              "\n",
              "  <div class=\"colab-df-container\">\n",
              "    <button class=\"colab-df-convert\" onclick=\"convertToInteractive('df-b3a8c5a7-56c0-4a63-956d-2b1e262bbecf')\"\n",
              "            title=\"Convert this dataframe to an interactive table.\"\n",
              "            style=\"display:none;\">\n",
              "\n",
              "  <svg xmlns=\"http://www.w3.org/2000/svg\" height=\"24px\" viewBox=\"0 -960 960 960\">\n",
              "    <path d=\"M120-120v-720h720v720H120Zm60-500h600v-160H180v160Zm220 220h160v-160H400v160Zm0 220h160v-160H400v160ZM180-400h160v-160H180v160Zm440 0h160v-160H620v160ZM180-180h160v-160H180v160Zm440 0h160v-160H620v160Z\"/>\n",
              "  </svg>\n",
              "    </button>\n",
              "\n",
              "  <style>\n",
              "    .colab-df-container {\n",
              "      display:flex;\n",
              "      gap: 12px;\n",
              "    }\n",
              "\n",
              "    .colab-df-convert {\n",
              "      background-color: #E8F0FE;\n",
              "      border: none;\n",
              "      border-radius: 50%;\n",
              "      cursor: pointer;\n",
              "      display: none;\n",
              "      fill: #1967D2;\n",
              "      height: 32px;\n",
              "      padding: 0 0 0 0;\n",
              "      width: 32px;\n",
              "    }\n",
              "\n",
              "    .colab-df-convert:hover {\n",
              "      background-color: #E2EBFA;\n",
              "      box-shadow: 0px 1px 2px rgba(60, 64, 67, 0.3), 0px 1px 3px 1px rgba(60, 64, 67, 0.15);\n",
              "      fill: #174EA6;\n",
              "    }\n",
              "\n",
              "    .colab-df-buttons div {\n",
              "      margin-bottom: 4px;\n",
              "    }\n",
              "\n",
              "    [theme=dark] .colab-df-convert {\n",
              "      background-color: #3B4455;\n",
              "      fill: #D2E3FC;\n",
              "    }\n",
              "\n",
              "    [theme=dark] .colab-df-convert:hover {\n",
              "      background-color: #434B5C;\n",
              "      box-shadow: 0px 1px 3px 1px rgba(0, 0, 0, 0.15);\n",
              "      filter: drop-shadow(0px 1px 2px rgba(0, 0, 0, 0.3));\n",
              "      fill: #FFFFFF;\n",
              "    }\n",
              "  </style>\n",
              "\n",
              "    <script>\n",
              "      const buttonEl =\n",
              "        document.querySelector('#df-b3a8c5a7-56c0-4a63-956d-2b1e262bbecf button.colab-df-convert');\n",
              "      buttonEl.style.display =\n",
              "        google.colab.kernel.accessAllowed ? 'block' : 'none';\n",
              "\n",
              "      async function convertToInteractive(key) {\n",
              "        const element = document.querySelector('#df-b3a8c5a7-56c0-4a63-956d-2b1e262bbecf');\n",
              "        const dataTable =\n",
              "          await google.colab.kernel.invokeFunction('convertToInteractive',\n",
              "                                                    [key], {});\n",
              "        if (!dataTable) return;\n",
              "\n",
              "        const docLinkHtml = 'Like what you see? Visit the ' +\n",
              "          '<a target=\"_blank\" href=https://colab.research.google.com/notebooks/data_table.ipynb>data table notebook</a>'\n",
              "          + ' to learn more about interactive tables.';\n",
              "        element.innerHTML = '';\n",
              "        dataTable['output_type'] = 'display_data';\n",
              "        await google.colab.output.renderOutput(dataTable, element);\n",
              "        const docLink = document.createElement('div');\n",
              "        docLink.innerHTML = docLinkHtml;\n",
              "        element.appendChild(docLink);\n",
              "      }\n",
              "    </script>\n",
              "  </div>\n",
              "\n",
              "\n",
              "<div id=\"df-3a647bed-cb85-408e-9f65-0139eae83685\">\n",
              "  <button class=\"colab-df-quickchart\" onclick=\"quickchart('df-3a647bed-cb85-408e-9f65-0139eae83685')\"\n",
              "            title=\"Suggest charts\"\n",
              "            style=\"display:none;\">\n",
              "\n",
              "<svg xmlns=\"http://www.w3.org/2000/svg\" height=\"24px\"viewBox=\"0 0 24 24\"\n",
              "     width=\"24px\">\n",
              "    <g>\n",
              "        <path d=\"M19 3H5c-1.1 0-2 .9-2 2v14c0 1.1.9 2 2 2h14c1.1 0 2-.9 2-2V5c0-1.1-.9-2-2-2zM9 17H7v-7h2v7zm4 0h-2V7h2v10zm4 0h-2v-4h2v4z\"/>\n",
              "    </g>\n",
              "</svg>\n",
              "  </button>\n",
              "\n",
              "<style>\n",
              "  .colab-df-quickchart {\n",
              "      --bg-color: #E8F0FE;\n",
              "      --fill-color: #1967D2;\n",
              "      --hover-bg-color: #E2EBFA;\n",
              "      --hover-fill-color: #174EA6;\n",
              "      --disabled-fill-color: #AAA;\n",
              "      --disabled-bg-color: #DDD;\n",
              "  }\n",
              "\n",
              "  [theme=dark] .colab-df-quickchart {\n",
              "      --bg-color: #3B4455;\n",
              "      --fill-color: #D2E3FC;\n",
              "      --hover-bg-color: #434B5C;\n",
              "      --hover-fill-color: #FFFFFF;\n",
              "      --disabled-bg-color: #3B4455;\n",
              "      --disabled-fill-color: #666;\n",
              "  }\n",
              "\n",
              "  .colab-df-quickchart {\n",
              "    background-color: var(--bg-color);\n",
              "    border: none;\n",
              "    border-radius: 50%;\n",
              "    cursor: pointer;\n",
              "    display: none;\n",
              "    fill: var(--fill-color);\n",
              "    height: 32px;\n",
              "    padding: 0;\n",
              "    width: 32px;\n",
              "  }\n",
              "\n",
              "  .colab-df-quickchart:hover {\n",
              "    background-color: var(--hover-bg-color);\n",
              "    box-shadow: 0 1px 2px rgba(60, 64, 67, 0.3), 0 1px 3px 1px rgba(60, 64, 67, 0.15);\n",
              "    fill: var(--button-hover-fill-color);\n",
              "  }\n",
              "\n",
              "  .colab-df-quickchart-complete:disabled,\n",
              "  .colab-df-quickchart-complete:disabled:hover {\n",
              "    background-color: var(--disabled-bg-color);\n",
              "    fill: var(--disabled-fill-color);\n",
              "    box-shadow: none;\n",
              "  }\n",
              "\n",
              "  .colab-df-spinner {\n",
              "    border: 2px solid var(--fill-color);\n",
              "    border-color: transparent;\n",
              "    border-bottom-color: var(--fill-color);\n",
              "    animation:\n",
              "      spin 1s steps(1) infinite;\n",
              "  }\n",
              "\n",
              "  @keyframes spin {\n",
              "    0% {\n",
              "      border-color: transparent;\n",
              "      border-bottom-color: var(--fill-color);\n",
              "      border-left-color: var(--fill-color);\n",
              "    }\n",
              "    20% {\n",
              "      border-color: transparent;\n",
              "      border-left-color: var(--fill-color);\n",
              "      border-top-color: var(--fill-color);\n",
              "    }\n",
              "    30% {\n",
              "      border-color: transparent;\n",
              "      border-left-color: var(--fill-color);\n",
              "      border-top-color: var(--fill-color);\n",
              "      border-right-color: var(--fill-color);\n",
              "    }\n",
              "    40% {\n",
              "      border-color: transparent;\n",
              "      border-right-color: var(--fill-color);\n",
              "      border-top-color: var(--fill-color);\n",
              "    }\n",
              "    60% {\n",
              "      border-color: transparent;\n",
              "      border-right-color: var(--fill-color);\n",
              "    }\n",
              "    80% {\n",
              "      border-color: transparent;\n",
              "      border-right-color: var(--fill-color);\n",
              "      border-bottom-color: var(--fill-color);\n",
              "    }\n",
              "    90% {\n",
              "      border-color: transparent;\n",
              "      border-bottom-color: var(--fill-color);\n",
              "    }\n",
              "  }\n",
              "</style>\n",
              "\n",
              "  <script>\n",
              "    async function quickchart(key) {\n",
              "      const quickchartButtonEl =\n",
              "        document.querySelector('#' + key + ' button');\n",
              "      quickchartButtonEl.disabled = true;  // To prevent multiple clicks.\n",
              "      quickchartButtonEl.classList.add('colab-df-spinner');\n",
              "      try {\n",
              "        const charts = await google.colab.kernel.invokeFunction(\n",
              "            'suggestCharts', [key], {});\n",
              "      } catch (error) {\n",
              "        console.error('Error during call to suggestCharts:', error);\n",
              "      }\n",
              "      quickchartButtonEl.classList.remove('colab-df-spinner');\n",
              "      quickchartButtonEl.classList.add('colab-df-quickchart-complete');\n",
              "    }\n",
              "    (() => {\n",
              "      let quickchartButtonEl =\n",
              "        document.querySelector('#df-3a647bed-cb85-408e-9f65-0139eae83685 button');\n",
              "      quickchartButtonEl.style.display =\n",
              "        google.colab.kernel.accessAllowed ? 'block' : 'none';\n",
              "    })();\n",
              "  </script>\n",
              "</div>\n",
              "    </div>\n",
              "  </div>\n"
            ],
            "text/plain": [
              "   Unnamed: 0                          image_id    class_name  class_id  \\\n",
              "0          20  0622cd29e4e0e4f198abf15614819ae8  Cardiomegaly         3   \n",
              "1          43  4016b176eaf40d514b0559a0aeb48f21  Cardiomegaly         3   \n",
              "2          45  25f2c7b53a6ed09a9aaf73c30357aaf6  Cardiomegaly         3   \n",
              "3          47  18ee9ef3baea468de2087e0edd85e919  Cardiomegaly         3   \n",
              "4         133  33403064ce25caa5fda270e6158c6b03  Cardiomegaly         3   \n",
              "\n",
              "  rad_id   x_min   y_min   x_max   y_max  \n",
              "0    R10  1044.0  1579.0  2098.0  1971.0  \n",
              "1    R10  1109.0  1552.0  2416.0  2033.0  \n",
              "2     R8   707.0  1316.0  2026.0  1686.0  \n",
              "3     R8   862.0  1829.0  1963.0  2185.0  \n",
              "4     R8  1248.0  1392.0  2458.0  1798.0  "
            ]
          },
          "execution_count": 74,
          "metadata": {},
          "output_type": "execute_result"
        }
      ],
      "source": [
        "df.head() # имя, координаты"
      ]
    },
    {
      "cell_type": "code",
      "execution_count": null,
      "metadata": {
        "colab": {
          "base_uri": "https://localhost:8080/"
        },
        "id": "lw3pcovyY6wt",
        "outputId": "396ba12d-46e2-4125-8d9a-53563cfaf92e"
      },
      "outputs": [
        {
          "data": {
            "text/plain": [
              "array(['0622cd29e4e0e4f198abf15614819ae8',\n",
              "       '4016b176eaf40d514b0559a0aeb48f21',\n",
              "       '25f2c7b53a6ed09a9aaf73c30357aaf6',\n",
              "       '18ee9ef3baea468de2087e0edd85e919',\n",
              "       '33403064ce25caa5fda270e6158c6b03',\n",
              "       '389f167c16b70e1eb1aa219fedc373b7',\n",
              "       '1302aab3d9d19f6bcb9db728e3ce6306',\n",
              "       '1c1ef26e3b3323f74041f6dd2371cd24',\n",
              "       '3c98c90840a9290511ae8192107f8250',\n",
              "       '511e8b50c9a7ecee4e1a8621f262e9ad',\n",
              "       '21992194880ed480bd0232be383b8268',\n",
              "       '2c475d89c90a50567ba0cf5ddd62f68a',\n",
              "       '4d01d09027d1d1e0513de4c8b4fc20e1',\n",
              "       '2e14a1d545fe84fb87891640ba990781',\n",
              "       '363dc405e14ed95659d88707f54730de',\n",
              "       '26be9cde1a3d1a38f19c6753cc9ed40d',\n",
              "       '2b5b141ce31a62f9b997052a3ca73128',\n",
              "       '1912296cce436028085697480121b4eb',\n",
              "       '1720ee54631aff23784053fe1719dfdb',\n",
              "       '317507bb22f6c10f4f08e8666c0f6ff8',\n",
              "       '54d7976f3b2da92eafd691971f78ea2b',\n",
              "       '1fcceea02142af619405d89b9ee156fc',\n",
              "       '41c40fd3bd0719e48290cd6f3485ca77',\n",
              "       '5076848df8fa698b517a34f6a8246d43',\n",
              "       '15a71d5f1e9a0221e14cde0e0d1a2ccd',\n",
              "       '0e87195ff59d4294d61b8bffddb3c03c',\n",
              "       '5480af204701170956ce3d98f363a3c2',\n",
              "       '4ce311cd58824cdd3b6ca3e0878bb9c1',\n",
              "       '32ed4f132b9f0077a309b0d91fc944e2',\n",
              "       '2a335bf71ad32a097557e379b6113ce9',\n",
              "       '22d7fb75b2d533f5fda002cd41721884',\n",
              "       '27ae5a2982f9ef772cccfbd14332f965',\n",
              "       '4f6ce4d52f883da96b68389f0c86a3f5',\n",
              "       '50f315c754b3530ac3c9bac3e96b22ac',\n",
              "       '23687f2e75cfb173dbfe0a785326d6b3',\n",
              "       '13dbf07cb1c5273a89053346f7acf0f1',\n",
              "       '2a96255deafcf2f24bf9f266e1c12633',\n",
              "       '36e495b7888099453ba79ff57a2c4334',\n",
              "       '3fe37d132711f84805405defb3673681',\n",
              "       '151893dad65d5077f5a377fc9d0e6881',\n",
              "       '23f29659e174d2c4651857bf304a5d75',\n",
              "       '1070b419b62a9b7b1a8e71cd9504ffb8',\n",
              "       '1516651227a420f879b4cea1500ee7db',\n",
              "       '3527884ce43d577c1cc449fc0f17f646',\n",
              "       '2728492d9333328da0ccd73d76d6c00d',\n",
              "       '4db77a5ffb5fa45be829a1cb9f6bc281',\n",
              "       '3e02670c9c691dbbd7f9aaa851bb70ae',\n",
              "       '1de1fb0878055fe44cd99abcbde7bfc4',\n",
              "       '4fd945bbe2d065ec9f58c2e86de2e1f9',\n",
              "       '09790cae0f405ce0fe4b003dadfc18c7',\n",
              "       '50a418190bc3fb1ef1633bf9678929b3',\n",
              "       '21a10246a5ec7af151081d0cd6d65dc9',\n",
              "       '063319de25ce7edb9b1c6b8881290140',\n",
              "       '5550a493b1c4554da469a072fdfab974',\n",
              "       '42d472bdda3ad93dac63c8e5e29977bb',\n",
              "       '2b1293d9c276e5439e499f58ce2e31ab',\n",
              "       '2561ba15f063a8e3a0322ad943738bb5',\n",
              "       '0890c2d68d17561848b25c61fb1da200',\n",
              "       '0ec928d72a4d206fe1b87ab683171004',\n",
              "       '2d8289dc0a35bc2c7d3b0afb4d0c25fb',\n",
              "       '20294a6c521b2ffc8ee2e7e1cac1fc50',\n",
              "       '2b73e82661e82f7c15c3ddaa15926d35',\n",
              "       '189e409214f5a4639d821a34064d9140',\n",
              "       '469999b0e3acee129f96aceaa99eba0d',\n",
              "       '436c7165593cde9087c4b4cce3a9fe0c',\n",
              "       '0d6acec8422b6fb8e214f770a1ff7d2d',\n",
              "       '1edd41fbc11831eeb7b70e45bc91214d',\n",
              "       '5576d293dfccbc926d92d3ec0d20b9af',\n",
              "       '32f643fbd7e99181193edf3720888743',\n",
              "       '43d334915f96e4cd350534dd47173791',\n",
              "       '14783d2f57f9c689d827892bbe112cb8',\n",
              "       '389526ec796c3955a9a89a66f04bc247',\n",
              "       '565f761092a0cbc6f85c8195de091343',\n",
              "       '0a695a94168b32705b91779586c6b2e7',\n",
              "       '56a0fef52403bf8a7bfb6ce0500e8da4',\n",
              "       '102a115e13edadc89540c060affec761',\n",
              "       '00dc70e84d141255f7fc6f8038bdd72e',\n",
              "       '1b09f8963f072c7caf4ecc685910fb15',\n",
              "       '08d0eab34ea5bab14e7e56dabafcdb7f',\n",
              "       '4fca8a77e10e418e3851c65c0f42fc23',\n",
              "       '3e300793e970e7916c36a57fe350f688',\n",
              "       '19092706cfc4df42ae8f3302eb73bbd3',\n",
              "       '012969950fbdd28bb50cfa447877cd4e',\n",
              "       '23ed5844d016867059889d56e64df1b9',\n",
              "       '55522f91d2da99602696a2c6b0b5f42a',\n",
              "       '57249e369cd43410e8005dc512375ff0',\n",
              "       '25ea0b3ba039f05031bd95927a978073',\n",
              "       '1ae368aaa68a19e19664f5f0648e863f',\n",
              "       '253d35b7096d0957bd79cfb4b1c954e1',\n",
              "       '380b4b9ed2f96b1efe6af2687d808e33',\n",
              "       '32a4977ad96250a4796f588b135d7067',\n",
              "       '44fd18e81fd09c367a5a9651d3e61ee4',\n",
              "       '535bc2dc2e6af4fa80186254f4d8b0f4',\n",
              "       '1bb7079ab131dd4c4151b2a6838538bd',\n",
              "       '1ecc10ca44af4ff9638ab9723ba974cb',\n",
              "       '0e14f72a9e6636ca4c41771220e6d72c',\n",
              "       '0459d43804df005b79d9b248690cf777',\n",
              "       '58989b53f38657250fbb9de06952f139',\n",
              "       '004d2bc2111d639f5e8441ced52d55cb',\n",
              "       '14155c990928bd35a34c5b63593cb300',\n",
              "       '352ab0683046ce107942e9e477007b72',\n",
              "       '2b0d2503cdaa8d34ad9a82cf4fdb546e',\n",
              "       '1e019d951139255f4ca9200aee4129c6',\n",
              "       '4869a847a5271f2eeffe65ff1db8a9b1',\n",
              "       '2c3979232fe659fb46d4ca12263e75d0',\n",
              "       '54fa20d07ac42e467ab67a87cf8563a3',\n",
              "       '412c4d81ec9510492343169ea6fc6a68',\n",
              "       '53e93d9f8cf885a55e00079256595a86',\n",
              "       '0005e8e3701dfb1dd93d53e2ff537b6e',\n",
              "       '2c8f7823a733497e98add3125db370cf',\n",
              "       '1bf31ecce06f5cab7b82b36daea676b6',\n",
              "       '285c4b227a6c923d674fa58fdfdd2eca',\n",
              "       '4c4cf43e7c8529c430c1d1295fee1784',\n",
              "       '0c31081e8ada2990bcbef0f12ea60b07',\n",
              "       '5268b1ff61505e50ac05fd430cc45276',\n",
              "       '34c80ab45be6a7d01ee5ee230967f3e1',\n",
              "       '236c84dba2293e1afd669eee1b6511c6',\n",
              "       '57415c4992802274b5a54930019c30f1',\n",
              "       '018a2fe44c3451281ec338c27ecc9c53',\n",
              "       '30d01b42c2a0495ceea5873455e4c4e4',\n",
              "       '2254df0c59c659c6eec67a73327bc857',\n",
              "       '2d817e7d481f611ed33a74e5cba97550',\n",
              "       '2534b21e1fcdf7748a07109999952840',\n",
              "       '23fcdb51ca6f2495a08911d8bd8f19e8',\n",
              "       '458a8766b1f96850e9f893e382058988',\n",
              "       '36a0490889068162384a000b02d37ad4',\n",
              "       '17a43dc27cccda142f5d54d378f4aed7',\n",
              "       '0f186e3eba8d9ebd51feed957204ddbf',\n",
              "       '34c1f477c3cdd534ef53de3c832f1ac4',\n",
              "       '3bc2e1cb9a227c162900a57fb5acd0cf',\n",
              "       '0853ab3a3dbadae1e6f28b933ddff809',\n",
              "       '51cce256c4d5b81a6b65a24cfe7b3ba2',\n",
              "       '3759c5c3b6dd31e4f79dad538500928c',\n",
              "       '43d3137e74ebd344636228e786cb91b0',\n",
              "       '3b464abb85ca7ca83a105e6057afab52',\n",
              "       '3dae58e1cf69a2284f2a44ded5c7405a',\n",
              "       '13776ecb39222a7aaace2d9721abebbe',\n",
              "       '32459f62247d44d5da83192aa03400e4',\n",
              "       '457e53f750c2f152033022e7918cc296',\n",
              "       '0c577dc6594dab44ebbd6964de673eaa',\n",
              "       '2592036272857648c597c9045a6588d1',\n",
              "       '17381ffc2b43778487e782dbb5cb963a',\n",
              "       '4fa30afdf5d4bbfcfd9071e2a56e7a4b',\n",
              "       '36d12290ed702e358cabe1d85657dafb',\n",
              "       '53385a96b1681676153e5e8900eaac66'], dtype=object)"
            ]
          },
          "execution_count": 75,
          "metadata": {},
          "output_type": "execute_result"
        }
      ],
      "source": [
        "unique_imgs = df.image_id.unique()\n",
        "unique_imgs"
      ]
    },
    {
      "cell_type": "code",
      "execution_count": null,
      "metadata": {
        "colab": {
          "base_uri": "https://localhost:8080/"
        },
        "id": "misMGjLJsFD2",
        "outputId": "115c24e5-6f98-4db1-f686-0f5e5374a62f"
      },
      "outputs": [
        {
          "name": "stdout",
          "output_type": "stream",
          "text": [
            "Collecting pydicom\n",
            "  Downloading pydicom-3.0.1-py3-none-any.whl.metadata (9.4 kB)\n",
            "Downloading pydicom-3.0.1-py3-none-any.whl (2.4 MB)\n",
            "\u001b[2K   \u001b[90m━━━━━━━━━━━━━━━━━━━━━━━━━━━━━━━━━━━━━━━━\u001b[0m \u001b[32m2.4/2.4 MB\u001b[0m \u001b[31m21.8 MB/s\u001b[0m eta \u001b[36m0:00:00\u001b[0m\n",
            "\u001b[?25hInstalling collected packages: pydicom\n",
            "Successfully installed pydicom-3.0.1\n"
          ]
        }
      ],
      "source": [
        "!pip install pydicom"
      ]
    },
    {
      "cell_type": "code",
      "execution_count": null,
      "metadata": {
        "id": "6EmoX1EaUY13"
      },
      "outputs": [],
      "source": [
        "import pydicom"
      ]
    },
    {
      "cell_type": "code",
      "execution_count": null,
      "metadata": {
        "id": "7RUUoVlrUY14"
      },
      "outputs": [],
      "source": [
        "class CLAHETransform:\n",
        "    def __init__(self, clip_limit=2.0, tile_grid_size=(16, 16)):\n",
        "        self.clahe = cv2.createCLAHE(clipLimit=clip_limit, tileGridSize=tile_grid_size)\n",
        "\n",
        "    def __call__(self, img):\n",
        "\n",
        "        img = np.array(img)\n",
        "\n",
        "        # переводим изображение в другой формат (L - яркость, A, B - цветовые каналы)\n",
        "        lab = cv2.cvtColor(img, cv2.COLOR_RGB2LAB)\n",
        "        l, a, b = cv2.split(lab)\n",
        "\n",
        "        # изменяем яркость изображения и создаём новое\n",
        "        l = self.clahe.apply(l)\n",
        "        lab = cv2.merge((l, a, b))\n",
        "\n",
        "        # перевод в исходный формат\n",
        "        img = cv2.cvtColor(lab, cv2.COLOR_LAB2RGB)\n",
        "        return Image.fromarray(img)"
      ]
    },
    {
      "cell_type": "code",
      "execution_count": null,
      "metadata": {
        "id": "rV7M9GlPY6uU"
      },
      "outputs": [],
      "source": [
        "class CustDat(torch.utils.data.Dataset):\n",
        "  def __init__(self, df, unique_imgs, indices):\n",
        "    self.df = df\n",
        "    self.unique_imgs = unique_imgs\n",
        "    self.indices = indices\n",
        "    self.clahe = CLAHETransform()\n",
        "  def __len__(self):\n",
        "    return len(self.indices)\n",
        "  def __getitem__ (self, idx):\n",
        "    image_name = self.unique_imgs[self.indices[idx]]\n",
        "    boxes = self.df[self.df.image_id == image_name].values[:,(-4):].astype('float')\n",
        "    dicom_path = ''\n",
        "    if os.path.isfile('/content/drive/My Drive/it_clinika/dataset/detection/train/Cardiomegaly/' + image_name + '.dicom'):\n",
        "      dicom_path = '/content/drive/My Drive/it_clinika/dataset/detection/train/Cardiomegaly/' + image_name + '.dicom'\n",
        "    elif os.path.isfile('/content/drive/My Drive/it_clinika/dataset/detection/train/Lung Opacity/' + image_name + '.dicom'):\n",
        "      dicom_path = '/content/drive/My Drive/it_clinika/dataset/detection/train/Lung Opacity/' + image_name + '.dicom'\n",
        "    else:\n",
        "      dicom_path = '/content/drive/My Drive/it_clinika/dataset/detection/train/No finding/' + image_name + '.dicom'\n",
        "    dicom_file = pydicom.dcmread(dicom_path)\n",
        "    img_data = dicom_file.pixel_array\n",
        "    img = Image.fromarray(img_data)\n",
        "    labels = torch.ones((boxes.shape[0]), dtype = torch.int64)\n",
        "    target = {}\n",
        "    target['boxes'] = torch.tensor(boxes)\n",
        "    target['label'] = labels\n",
        "    return T.ToTensor()(img), target\n"
      ]
    },
    {
      "cell_type": "code",
      "execution_count": null,
      "metadata": {
        "id": "HaQjv5BrY6rv"
      },
      "outputs": [],
      "source": [
        "train_inds, val_inds = train_test_split(range(unique_imgs.shape[0]), test_size = 0.1)"
      ]
    },
    {
      "cell_type": "code",
      "execution_count": null,
      "metadata": {
        "id": "m-fjSPmgY6o1"
      },
      "outputs": [],
      "source": [
        "def custom_collate(data):\n",
        "  return data"
      ]
    },
    {
      "cell_type": "code",
      "execution_count": null,
      "metadata": {
        "id": "qdKE4rL1Y6kG"
      },
      "outputs": [],
      "source": [
        "train_dl = torch.utils.data.DataLoader(CustDat(df, unique_imgs, train_inds),\n",
        "                                       batch_size = 16,\n",
        "                                       shuffle = True,\n",
        "                                       collate_fn = custom_collate,\n",
        "                                       pin_memory = True if torch.cuda.is_available() else False)\n",
        "\n",
        "val_dl = torch.utils.data.DataLoader(CustDat(df, unique_imgs, val_inds),\n",
        "                                       batch_size = 8,\n",
        "                                       shuffle = True,\n",
        "                                       collate_fn = custom_collate,\n",
        "                                       pin_memory = True if torch.cuda.is_available() else False)"
      ]
    },
    {
      "cell_type": "code",
      "execution_count": null,
      "metadata": {
        "colab": {
          "base_uri": "https://localhost:8080/"
        },
        "id": "SO4YkphLY6hy",
        "outputId": "2a236152-0de3-4ac4-8786-43f8ff14d1a5"
      },
      "outputs": [
        {
          "name": "stderr",
          "output_type": "stream",
          "text": [
            "/usr/local/lib/python3.10/dist-packages/torchvision/models/_utils.py:208: UserWarning: The parameter 'pretrained' is deprecated since 0.13 and may be removed in the future, please use 'weights' instead.\n",
            "  warnings.warn(\n",
            "/usr/local/lib/python3.10/dist-packages/torchvision/models/_utils.py:223: UserWarning: Arguments other than a weight enum or `None` for 'weights' are deprecated since 0.13 and may be removed in the future. The current behavior is equivalent to passing `weights=FasterRCNN_ResNet50_FPN_Weights.COCO_V1`. You can also use `weights=FasterRCNN_ResNet50_FPN_Weights.DEFAULT` to get the most up-to-date weights.\n",
            "  warnings.warn(msg)\n"
          ]
        }
      ],
      "source": [
        "model = torchvision.models.detection.fasterrcnn_resnet50_fpn(pretrained = True)\n",
        "num_classes = 2\n",
        "in_features = model.roi_heads.box_predictor.cls_score.in_features\n",
        "model.roi_heads.box_predictor = FastRCNNPredictor(in_features, num_classes)"
      ]
    },
    {
      "cell_type": "code",
      "execution_count": null,
      "metadata": {
        "id": "6_FiatXkcn0f"
      },
      "outputs": [],
      "source": [
        "device = torch.device('cuda') if torch.cuda.is_available() else torch.device('cpu')"
      ]
    },
    {
      "cell_type": "code",
      "execution_count": null,
      "metadata": {
        "colab": {
          "base_uri": "https://localhost:8080/"
        },
        "id": "6_a__KH1cnyB",
        "outputId": "f6af85a6-f513-47fe-a8dd-8ad6123d8817"
      },
      "outputs": [
        {
          "data": {
            "text/plain": [
              "device(type='cpu')"
            ]
          },
          "execution_count": 87,
          "metadata": {},
          "output_type": "execute_result"
        }
      ],
      "source": [
        "device"
      ]
    },
    {
      "cell_type": "code",
      "execution_count": null,
      "metadata": {
        "id": "VcYxEZy5cnvX"
      },
      "outputs": [],
      "source": [
        "optimazer = torch.optim.SGD(model.parameters(), lr = 0.001, momentum=0.9, weight_decay= 0.0005)\n",
        "num_epochs = 5"
      ]
    },
    {
      "cell_type": "code",
      "execution_count": null,
      "metadata": {
        "colab": {
          "base_uri": "https://localhost:8080/",
          "height": 211
        },
        "id": "ngHbGZp3dHb7",
        "outputId": "31bbd2b1-7014-4b7a-f9f6-1327f4ae8d22"
      },
      "outputs": [
        {
          "ename": "NameError",
          "evalue": "name 'model' is not defined",
          "output_type": "error",
          "traceback": [
            "\u001b[0;31m---------------------------------------------------------------------------\u001b[0m",
            "\u001b[0;31mNameError\u001b[0m                                 Traceback (most recent call last)",
            "\u001b[0;32m<ipython-input-1-6254165f284e>\u001b[0m in \u001b[0;36m<cell line: 1>\u001b[0;34m()\u001b[0m\n\u001b[0;32m----> 1\u001b[0;31m \u001b[0mmodel\u001b[0m\u001b[0;34m.\u001b[0m\u001b[0mto\u001b[0m\u001b[0;34m(\u001b[0m\u001b[0mdevice\u001b[0m\u001b[0;34m)\u001b[0m\u001b[0;34m\u001b[0m\u001b[0;34m\u001b[0m\u001b[0m\n\u001b[0m\u001b[1;32m      2\u001b[0m \u001b[0;32mfor\u001b[0m \u001b[0mepoch\u001b[0m \u001b[0;32min\u001b[0m \u001b[0mrange\u001b[0m\u001b[0;34m(\u001b[0m\u001b[0mnum_epochs\u001b[0m\u001b[0;34m)\u001b[0m\u001b[0;34m:\u001b[0m\u001b[0;34m\u001b[0m\u001b[0;34m\u001b[0m\u001b[0m\n\u001b[1;32m      3\u001b[0m     \u001b[0mepoch_loss\u001b[0m \u001b[0;34m=\u001b[0m \u001b[0;36m0\u001b[0m\u001b[0;34m\u001b[0m\u001b[0;34m\u001b[0m\u001b[0m\n\u001b[1;32m      4\u001b[0m     \u001b[0;32mfor\u001b[0m \u001b[0mdata\u001b[0m \u001b[0;32min\u001b[0m \u001b[0mtrain_dl\u001b[0m\u001b[0;34m:\u001b[0m\u001b[0;34m\u001b[0m\u001b[0;34m\u001b[0m\u001b[0m\n\u001b[1;32m      5\u001b[0m         \u001b[0mimgs\u001b[0m \u001b[0;34m=\u001b[0m \u001b[0;34m[\u001b[0m\u001b[0;34m]\u001b[0m\u001b[0;34m\u001b[0m\u001b[0;34m\u001b[0m\u001b[0m\n",
            "\u001b[0;31mNameError\u001b[0m: name 'model' is not defined"
          ]
        }
      ],
      "source": [
        "model.to(device)\n",
        "\n",
        "for epoch in range(num_epochs):\n",
        "    epoch_loss = 0\n",
        "    for data in train_dl:\n",
        "        imgs = []\n",
        "        targets = []\n",
        "\n",
        "        for d in data:\n",
        "            imgs.append(d[0].to(device).float() / 255.0)\n",
        "\n",
        "            targ = {\n",
        "                'boxes': d[1]['boxes'].to(device),\n",
        "                'labels': d[1]['label'].to(device)\n",
        "            }\n",
        "            targets.append(targ)\n",
        "\n",
        "        loss_dict = model(imgs, targets)\n",
        "        loss = sum(v for v in loss_dict.values())\n",
        "\n",
        "        with torch.no_grad():\n",
        "            epoch_loss += loss.cpu().detach().numpy()\n",
        "\n",
        "        optimazer.zero_grad()\n",
        "        loss.backward()\n",
        "        optimazer.step()\n",
        "\n",
        "        del imgs, targets, loss, loss_dict\n",
        "        torch.cuda.empty_cache()\n",
        "\n",
        "    print(f\"Epoch {epoch+1}/{num_epochs}, Loss: {epoch_loss}\")\n"
      ]
    },
    {
      "cell_type": "code",
      "execution_count": null,
      "metadata": {
        "id": "f-mfdc1ldHYl"
      },
      "outputs": [],
      "source": [
        "model.eval()\n",
        "data = iter(val_dl).__next__()"
      ]
    },
    {
      "cell_type": "code",
      "execution_count": null,
      "metadata": {
        "id": "lsTqQ6F-dHVo"
      },
      "outputs": [],
      "source": [
        "img = data[0][0]\n",
        "boxes = data[0][1]['boxes']\n",
        "labels = data[0][1]['label']"
      ]
    },
    {
      "cell_type": "code",
      "execution_count": null,
      "metadata": {
        "id": "tNSsbLNleuMr"
      },
      "outputs": [],
      "source": [
        "output = model([img.to(device)])\n",
        "output"
      ]
    },
    {
      "cell_type": "code",
      "execution_count": null,
      "metadata": {
        "id": "T9NlbRsieuKK"
      },
      "outputs": [],
      "source": [
        "out_bbox = output[0]['boxer']\n",
        "out_scores = output[0]['scores']"
      ]
    },
    {
      "cell_type": "code",
      "execution_count": null,
      "metadata": {
        "id": "H11LSGuGeuHl"
      },
      "outputs": [],
      "source": [
        "keep = torchvision.ops.nms(out_bbox, out_scores, 0.45)"
      ]
    },
    {
      "cell_type": "code",
      "execution_count": null,
      "metadata": {
        "id": "iSgcWWNofSa0"
      },
      "outputs": [],
      "source": [
        "out_bbox.shape, keep.shape"
      ]
    },
    {
      "cell_type": "code",
      "execution_count": null,
      "metadata": {
        "id": "frDoMeFVfSYF"
      },
      "outputs": [],
      "source": [
        "im = (img.permute(1,2,0).cpu().detach().numpy() * 255).astype('uint8')\n",
        "im"
      ]
    },
    {
      "cell_type": "code",
      "execution_count": null,
      "metadata": {
        "id": "2PNXLAHefSVL"
      },
      "outputs": [],
      "source": [
        "vsample = Image.fromarray(im)"
      ]
    },
    {
      "cell_type": "code",
      "execution_count": null,
      "metadata": {
        "id": "1nupSeGHf2Ov"
      },
      "outputs": [],
      "source": [
        "draw = ImageDraw.Draw(vsample)\n",
        "for box in boxes:\n",
        "  draw.rectangle(list(box), fill = None, outline = 'red')\n",
        "vsample"
      ]
    },
    {
      "cell_type": "code",
      "execution_count": null,
      "metadata": {
        "id": "1A6ToD69f2Mg"
      },
      "outputs": [],
      "source": []
    },
    {
      "cell_type": "code",
      "execution_count": null,
      "metadata": {
        "id": "rsC-v3yFf2Jk"
      },
      "outputs": [],
      "source": []
    }
  ],
  "metadata": {
    "colab": {
      "provenance": []
    },
    "kernelspec": {
      "display_name": "Python 3",
      "name": "python3"
    },
    "language_info": {
      "codemirror_mode": {
        "name": "ipython",
        "version": 3
      },
      "file_extension": ".py",
      "mimetype": "text/x-python",
      "name": "python",
      "nbconvert_exporter": "python",
      "pygments_lexer": "ipython3",
      "version": "3.12.3"
    }
  },
  "nbformat": 4,
  "nbformat_minor": 0
}